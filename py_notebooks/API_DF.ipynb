{
  "nbformat": 4,
  "nbformat_minor": 0,
  "metadata": {
    "colab": {
      "provenance": [],
      "collapsed_sections": []
    },
    "kernelspec": {
      "name": "python3",
      "display_name": "Python 3"
    },
    "language_info": {
      "name": "python"
    },
    "widgets": {
      "application/vnd.jupyter.widget-state+json": {
        "d37f50facb6445259c4334319de3cd8e": {
          "model_module": "@jupyter-widgets/controls",
          "model_name": "HBoxModel",
          "model_module_version": "1.5.0",
          "state": {
            "_dom_classes": [],
            "_model_module": "@jupyter-widgets/controls",
            "_model_module_version": "1.5.0",
            "_model_name": "HBoxModel",
            "_view_count": null,
            "_view_module": "@jupyter-widgets/controls",
            "_view_module_version": "1.5.0",
            "_view_name": "HBoxView",
            "box_style": "",
            "children": [
              "IPY_MODEL_7e4f705a3e1f4ef594a67581fd87aac9",
              "IPY_MODEL_e18502e10b4943c7ad379d10ed88f2f1",
              "IPY_MODEL_695adf438b974ecc972c2645db1ac773"
            ],
            "layout": "IPY_MODEL_0ab075aac8f94011ad60ff8225acd96f"
          }
        },
        "7e4f705a3e1f4ef594a67581fd87aac9": {
          "model_module": "@jupyter-widgets/controls",
          "model_name": "HTMLModel",
          "model_module_version": "1.5.0",
          "state": {
            "_dom_classes": [],
            "_model_module": "@jupyter-widgets/controls",
            "_model_module_version": "1.5.0",
            "_model_name": "HTMLModel",
            "_view_count": null,
            "_view_module": "@jupyter-widgets/controls",
            "_view_module_version": "1.5.0",
            "_view_name": "HTMLView",
            "description": "",
            "description_tooltip": null,
            "layout": "IPY_MODEL_04191675e3ac4e5fbff6994266f9badd",
            "placeholder": "​",
            "style": "IPY_MODEL_4ac87e2873c74fc7a3580b564ece20c3",
            "value": "100%"
          }
        },
        "e18502e10b4943c7ad379d10ed88f2f1": {
          "model_module": "@jupyter-widgets/controls",
          "model_name": "FloatProgressModel",
          "model_module_version": "1.5.0",
          "state": {
            "_dom_classes": [],
            "_model_module": "@jupyter-widgets/controls",
            "_model_module_version": "1.5.0",
            "_model_name": "FloatProgressModel",
            "_view_count": null,
            "_view_module": "@jupyter-widgets/controls",
            "_view_module_version": "1.5.0",
            "_view_name": "ProgressView",
            "bar_style": "success",
            "description": "",
            "description_tooltip": null,
            "layout": "IPY_MODEL_8e37d6f7c01c4d61993e12eb5600afac",
            "max": 52,
            "min": 0,
            "orientation": "horizontal",
            "style": "IPY_MODEL_69d8bce3657e4a07a7c65aa6cac25398",
            "value": 52
          }
        },
        "695adf438b974ecc972c2645db1ac773": {
          "model_module": "@jupyter-widgets/controls",
          "model_name": "HTMLModel",
          "model_module_version": "1.5.0",
          "state": {
            "_dom_classes": [],
            "_model_module": "@jupyter-widgets/controls",
            "_model_module_version": "1.5.0",
            "_model_name": "HTMLModel",
            "_view_count": null,
            "_view_module": "@jupyter-widgets/controls",
            "_view_module_version": "1.5.0",
            "_view_name": "HTMLView",
            "description": "",
            "description_tooltip": null,
            "layout": "IPY_MODEL_9631ddb8fc944cb0bbad6f7a8665d668",
            "placeholder": "​",
            "style": "IPY_MODEL_1f54c5f8fb294226a6c2ce8dbd9c852f",
            "value": " 52/52 [00:39&lt;00:00,  1.02it/s]"
          }
        },
        "0ab075aac8f94011ad60ff8225acd96f": {
          "model_module": "@jupyter-widgets/base",
          "model_name": "LayoutModel",
          "model_module_version": "1.2.0",
          "state": {
            "_model_module": "@jupyter-widgets/base",
            "_model_module_version": "1.2.0",
            "_model_name": "LayoutModel",
            "_view_count": null,
            "_view_module": "@jupyter-widgets/base",
            "_view_module_version": "1.2.0",
            "_view_name": "LayoutView",
            "align_content": null,
            "align_items": null,
            "align_self": null,
            "border": null,
            "bottom": null,
            "display": null,
            "flex": null,
            "flex_flow": null,
            "grid_area": null,
            "grid_auto_columns": null,
            "grid_auto_flow": null,
            "grid_auto_rows": null,
            "grid_column": null,
            "grid_gap": null,
            "grid_row": null,
            "grid_template_areas": null,
            "grid_template_columns": null,
            "grid_template_rows": null,
            "height": null,
            "justify_content": null,
            "justify_items": null,
            "left": null,
            "margin": null,
            "max_height": null,
            "max_width": null,
            "min_height": null,
            "min_width": null,
            "object_fit": null,
            "object_position": null,
            "order": null,
            "overflow": null,
            "overflow_x": null,
            "overflow_y": null,
            "padding": null,
            "right": null,
            "top": null,
            "visibility": null,
            "width": null
          }
        },
        "04191675e3ac4e5fbff6994266f9badd": {
          "model_module": "@jupyter-widgets/base",
          "model_name": "LayoutModel",
          "model_module_version": "1.2.0",
          "state": {
            "_model_module": "@jupyter-widgets/base",
            "_model_module_version": "1.2.0",
            "_model_name": "LayoutModel",
            "_view_count": null,
            "_view_module": "@jupyter-widgets/base",
            "_view_module_version": "1.2.0",
            "_view_name": "LayoutView",
            "align_content": null,
            "align_items": null,
            "align_self": null,
            "border": null,
            "bottom": null,
            "display": null,
            "flex": null,
            "flex_flow": null,
            "grid_area": null,
            "grid_auto_columns": null,
            "grid_auto_flow": null,
            "grid_auto_rows": null,
            "grid_column": null,
            "grid_gap": null,
            "grid_row": null,
            "grid_template_areas": null,
            "grid_template_columns": null,
            "grid_template_rows": null,
            "height": null,
            "justify_content": null,
            "justify_items": null,
            "left": null,
            "margin": null,
            "max_height": null,
            "max_width": null,
            "min_height": null,
            "min_width": null,
            "object_fit": null,
            "object_position": null,
            "order": null,
            "overflow": null,
            "overflow_x": null,
            "overflow_y": null,
            "padding": null,
            "right": null,
            "top": null,
            "visibility": null,
            "width": null
          }
        },
        "4ac87e2873c74fc7a3580b564ece20c3": {
          "model_module": "@jupyter-widgets/controls",
          "model_name": "DescriptionStyleModel",
          "model_module_version": "1.5.0",
          "state": {
            "_model_module": "@jupyter-widgets/controls",
            "_model_module_version": "1.5.0",
            "_model_name": "DescriptionStyleModel",
            "_view_count": null,
            "_view_module": "@jupyter-widgets/base",
            "_view_module_version": "1.2.0",
            "_view_name": "StyleView",
            "description_width": ""
          }
        },
        "8e37d6f7c01c4d61993e12eb5600afac": {
          "model_module": "@jupyter-widgets/base",
          "model_name": "LayoutModel",
          "model_module_version": "1.2.0",
          "state": {
            "_model_module": "@jupyter-widgets/base",
            "_model_module_version": "1.2.0",
            "_model_name": "LayoutModel",
            "_view_count": null,
            "_view_module": "@jupyter-widgets/base",
            "_view_module_version": "1.2.0",
            "_view_name": "LayoutView",
            "align_content": null,
            "align_items": null,
            "align_self": null,
            "border": null,
            "bottom": null,
            "display": null,
            "flex": null,
            "flex_flow": null,
            "grid_area": null,
            "grid_auto_columns": null,
            "grid_auto_flow": null,
            "grid_auto_rows": null,
            "grid_column": null,
            "grid_gap": null,
            "grid_row": null,
            "grid_template_areas": null,
            "grid_template_columns": null,
            "grid_template_rows": null,
            "height": null,
            "justify_content": null,
            "justify_items": null,
            "left": null,
            "margin": null,
            "max_height": null,
            "max_width": null,
            "min_height": null,
            "min_width": null,
            "object_fit": null,
            "object_position": null,
            "order": null,
            "overflow": null,
            "overflow_x": null,
            "overflow_y": null,
            "padding": null,
            "right": null,
            "top": null,
            "visibility": null,
            "width": null
          }
        },
        "69d8bce3657e4a07a7c65aa6cac25398": {
          "model_module": "@jupyter-widgets/controls",
          "model_name": "ProgressStyleModel",
          "model_module_version": "1.5.0",
          "state": {
            "_model_module": "@jupyter-widgets/controls",
            "_model_module_version": "1.5.0",
            "_model_name": "ProgressStyleModel",
            "_view_count": null,
            "_view_module": "@jupyter-widgets/base",
            "_view_module_version": "1.2.0",
            "_view_name": "StyleView",
            "bar_color": null,
            "description_width": ""
          }
        },
        "9631ddb8fc944cb0bbad6f7a8665d668": {
          "model_module": "@jupyter-widgets/base",
          "model_name": "LayoutModel",
          "model_module_version": "1.2.0",
          "state": {
            "_model_module": "@jupyter-widgets/base",
            "_model_module_version": "1.2.0",
            "_model_name": "LayoutModel",
            "_view_count": null,
            "_view_module": "@jupyter-widgets/base",
            "_view_module_version": "1.2.0",
            "_view_name": "LayoutView",
            "align_content": null,
            "align_items": null,
            "align_self": null,
            "border": null,
            "bottom": null,
            "display": null,
            "flex": null,
            "flex_flow": null,
            "grid_area": null,
            "grid_auto_columns": null,
            "grid_auto_flow": null,
            "grid_auto_rows": null,
            "grid_column": null,
            "grid_gap": null,
            "grid_row": null,
            "grid_template_areas": null,
            "grid_template_columns": null,
            "grid_template_rows": null,
            "height": null,
            "justify_content": null,
            "justify_items": null,
            "left": null,
            "margin": null,
            "max_height": null,
            "max_width": null,
            "min_height": null,
            "min_width": null,
            "object_fit": null,
            "object_position": null,
            "order": null,
            "overflow": null,
            "overflow_x": null,
            "overflow_y": null,
            "padding": null,
            "right": null,
            "top": null,
            "visibility": null,
            "width": null
          }
        },
        "1f54c5f8fb294226a6c2ce8dbd9c852f": {
          "model_module": "@jupyter-widgets/controls",
          "model_name": "DescriptionStyleModel",
          "model_module_version": "1.5.0",
          "state": {
            "_model_module": "@jupyter-widgets/controls",
            "_model_module_version": "1.5.0",
            "_model_name": "DescriptionStyleModel",
            "_view_count": null,
            "_view_module": "@jupyter-widgets/base",
            "_view_module_version": "1.2.0",
            "_view_name": "StyleView",
            "description_width": ""
          }
        },
        "ff98ad61bca3448b9b6c97de2fa15a59": {
          "model_module": "@jupyter-widgets/controls",
          "model_name": "HBoxModel",
          "model_module_version": "1.5.0",
          "state": {
            "_dom_classes": [],
            "_model_module": "@jupyter-widgets/controls",
            "_model_module_version": "1.5.0",
            "_model_name": "HBoxModel",
            "_view_count": null,
            "_view_module": "@jupyter-widgets/controls",
            "_view_module_version": "1.5.0",
            "_view_name": "HBoxView",
            "box_style": "",
            "children": [
              "IPY_MODEL_dfdf767da8614e9c922b8a3370689996",
              "IPY_MODEL_93dda03f2fdd49498c2729502050cda6",
              "IPY_MODEL_01080543208c4759b17079f6088c703f"
            ],
            "layout": "IPY_MODEL_31194fd675bc436ea2caefc81080f37a"
          }
        },
        "dfdf767da8614e9c922b8a3370689996": {
          "model_module": "@jupyter-widgets/controls",
          "model_name": "HTMLModel",
          "model_module_version": "1.5.0",
          "state": {
            "_dom_classes": [],
            "_model_module": "@jupyter-widgets/controls",
            "_model_module_version": "1.5.0",
            "_model_name": "HTMLModel",
            "_view_count": null,
            "_view_module": "@jupyter-widgets/controls",
            "_view_module_version": "1.5.0",
            "_view_name": "HTMLView",
            "description": "",
            "description_tooltip": null,
            "layout": "IPY_MODEL_b57da7f2606346f88fa87631f19fc562",
            "placeholder": "​",
            "style": "IPY_MODEL_80ef8140409c4a1e8be8ef2f96e09f87",
            "value": "100%"
          }
        },
        "93dda03f2fdd49498c2729502050cda6": {
          "model_module": "@jupyter-widgets/controls",
          "model_name": "FloatProgressModel",
          "model_module_version": "1.5.0",
          "state": {
            "_dom_classes": [],
            "_model_module": "@jupyter-widgets/controls",
            "_model_module_version": "1.5.0",
            "_model_name": "FloatProgressModel",
            "_view_count": null,
            "_view_module": "@jupyter-widgets/controls",
            "_view_module_version": "1.5.0",
            "_view_name": "ProgressView",
            "bar_style": "success",
            "description": "",
            "description_tooltip": null,
            "layout": "IPY_MODEL_1e8edd198b4842b59514ffd2445bbd13",
            "max": 8,
            "min": 0,
            "orientation": "horizontal",
            "style": "IPY_MODEL_1a3f25b230894e1c8d73289bf899e5c7",
            "value": 8
          }
        },
        "01080543208c4759b17079f6088c703f": {
          "model_module": "@jupyter-widgets/controls",
          "model_name": "HTMLModel",
          "model_module_version": "1.5.0",
          "state": {
            "_dom_classes": [],
            "_model_module": "@jupyter-widgets/controls",
            "_model_module_version": "1.5.0",
            "_model_name": "HTMLModel",
            "_view_count": null,
            "_view_module": "@jupyter-widgets/controls",
            "_view_module_version": "1.5.0",
            "_view_name": "HTMLView",
            "description": "",
            "description_tooltip": null,
            "layout": "IPY_MODEL_4c373d00824940b5ab424a1e5d0954ba",
            "placeholder": "​",
            "style": "IPY_MODEL_ab1408b9c4de4e719cd71e72a57fa2bd",
            "value": " 8/8 [00:02&lt;00:00,  4.01it/s]"
          }
        },
        "31194fd675bc436ea2caefc81080f37a": {
          "model_module": "@jupyter-widgets/base",
          "model_name": "LayoutModel",
          "model_module_version": "1.2.0",
          "state": {
            "_model_module": "@jupyter-widgets/base",
            "_model_module_version": "1.2.0",
            "_model_name": "LayoutModel",
            "_view_count": null,
            "_view_module": "@jupyter-widgets/base",
            "_view_module_version": "1.2.0",
            "_view_name": "LayoutView",
            "align_content": null,
            "align_items": null,
            "align_self": null,
            "border": null,
            "bottom": null,
            "display": null,
            "flex": null,
            "flex_flow": null,
            "grid_area": null,
            "grid_auto_columns": null,
            "grid_auto_flow": null,
            "grid_auto_rows": null,
            "grid_column": null,
            "grid_gap": null,
            "grid_row": null,
            "grid_template_areas": null,
            "grid_template_columns": null,
            "grid_template_rows": null,
            "height": null,
            "justify_content": null,
            "justify_items": null,
            "left": null,
            "margin": null,
            "max_height": null,
            "max_width": null,
            "min_height": null,
            "min_width": null,
            "object_fit": null,
            "object_position": null,
            "order": null,
            "overflow": null,
            "overflow_x": null,
            "overflow_y": null,
            "padding": null,
            "right": null,
            "top": null,
            "visibility": null,
            "width": null
          }
        },
        "b57da7f2606346f88fa87631f19fc562": {
          "model_module": "@jupyter-widgets/base",
          "model_name": "LayoutModel",
          "model_module_version": "1.2.0",
          "state": {
            "_model_module": "@jupyter-widgets/base",
            "_model_module_version": "1.2.0",
            "_model_name": "LayoutModel",
            "_view_count": null,
            "_view_module": "@jupyter-widgets/base",
            "_view_module_version": "1.2.0",
            "_view_name": "LayoutView",
            "align_content": null,
            "align_items": null,
            "align_self": null,
            "border": null,
            "bottom": null,
            "display": null,
            "flex": null,
            "flex_flow": null,
            "grid_area": null,
            "grid_auto_columns": null,
            "grid_auto_flow": null,
            "grid_auto_rows": null,
            "grid_column": null,
            "grid_gap": null,
            "grid_row": null,
            "grid_template_areas": null,
            "grid_template_columns": null,
            "grid_template_rows": null,
            "height": null,
            "justify_content": null,
            "justify_items": null,
            "left": null,
            "margin": null,
            "max_height": null,
            "max_width": null,
            "min_height": null,
            "min_width": null,
            "object_fit": null,
            "object_position": null,
            "order": null,
            "overflow": null,
            "overflow_x": null,
            "overflow_y": null,
            "padding": null,
            "right": null,
            "top": null,
            "visibility": null,
            "width": null
          }
        },
        "80ef8140409c4a1e8be8ef2f96e09f87": {
          "model_module": "@jupyter-widgets/controls",
          "model_name": "DescriptionStyleModel",
          "model_module_version": "1.5.0",
          "state": {
            "_model_module": "@jupyter-widgets/controls",
            "_model_module_version": "1.5.0",
            "_model_name": "DescriptionStyleModel",
            "_view_count": null,
            "_view_module": "@jupyter-widgets/base",
            "_view_module_version": "1.2.0",
            "_view_name": "StyleView",
            "description_width": ""
          }
        },
        "1e8edd198b4842b59514ffd2445bbd13": {
          "model_module": "@jupyter-widgets/base",
          "model_name": "LayoutModel",
          "model_module_version": "1.2.0",
          "state": {
            "_model_module": "@jupyter-widgets/base",
            "_model_module_version": "1.2.0",
            "_model_name": "LayoutModel",
            "_view_count": null,
            "_view_module": "@jupyter-widgets/base",
            "_view_module_version": "1.2.0",
            "_view_name": "LayoutView",
            "align_content": null,
            "align_items": null,
            "align_self": null,
            "border": null,
            "bottom": null,
            "display": null,
            "flex": null,
            "flex_flow": null,
            "grid_area": null,
            "grid_auto_columns": null,
            "grid_auto_flow": null,
            "grid_auto_rows": null,
            "grid_column": null,
            "grid_gap": null,
            "grid_row": null,
            "grid_template_areas": null,
            "grid_template_columns": null,
            "grid_template_rows": null,
            "height": null,
            "justify_content": null,
            "justify_items": null,
            "left": null,
            "margin": null,
            "max_height": null,
            "max_width": null,
            "min_height": null,
            "min_width": null,
            "object_fit": null,
            "object_position": null,
            "order": null,
            "overflow": null,
            "overflow_x": null,
            "overflow_y": null,
            "padding": null,
            "right": null,
            "top": null,
            "visibility": null,
            "width": null
          }
        },
        "1a3f25b230894e1c8d73289bf899e5c7": {
          "model_module": "@jupyter-widgets/controls",
          "model_name": "ProgressStyleModel",
          "model_module_version": "1.5.0",
          "state": {
            "_model_module": "@jupyter-widgets/controls",
            "_model_module_version": "1.5.0",
            "_model_name": "ProgressStyleModel",
            "_view_count": null,
            "_view_module": "@jupyter-widgets/base",
            "_view_module_version": "1.2.0",
            "_view_name": "StyleView",
            "bar_color": null,
            "description_width": ""
          }
        },
        "4c373d00824940b5ab424a1e5d0954ba": {
          "model_module": "@jupyter-widgets/base",
          "model_name": "LayoutModel",
          "model_module_version": "1.2.0",
          "state": {
            "_model_module": "@jupyter-widgets/base",
            "_model_module_version": "1.2.0",
            "_model_name": "LayoutModel",
            "_view_count": null,
            "_view_module": "@jupyter-widgets/base",
            "_view_module_version": "1.2.0",
            "_view_name": "LayoutView",
            "align_content": null,
            "align_items": null,
            "align_self": null,
            "border": null,
            "bottom": null,
            "display": null,
            "flex": null,
            "flex_flow": null,
            "grid_area": null,
            "grid_auto_columns": null,
            "grid_auto_flow": null,
            "grid_auto_rows": null,
            "grid_column": null,
            "grid_gap": null,
            "grid_row": null,
            "grid_template_areas": null,
            "grid_template_columns": null,
            "grid_template_rows": null,
            "height": null,
            "justify_content": null,
            "justify_items": null,
            "left": null,
            "margin": null,
            "max_height": null,
            "max_width": null,
            "min_height": null,
            "min_width": null,
            "object_fit": null,
            "object_position": null,
            "order": null,
            "overflow": null,
            "overflow_x": null,
            "overflow_y": null,
            "padding": null,
            "right": null,
            "top": null,
            "visibility": null,
            "width": null
          }
        },
        "ab1408b9c4de4e719cd71e72a57fa2bd": {
          "model_module": "@jupyter-widgets/controls",
          "model_name": "DescriptionStyleModel",
          "model_module_version": "1.5.0",
          "state": {
            "_model_module": "@jupyter-widgets/controls",
            "_model_module_version": "1.5.0",
            "_model_name": "DescriptionStyleModel",
            "_view_count": null,
            "_view_module": "@jupyter-widgets/base",
            "_view_module_version": "1.2.0",
            "_view_name": "StyleView",
            "description_width": ""
          }
        }
      }
    }
  },
  "cells": [
    {
      "cell_type": "markdown",
      "source": [
        "Данный блокнот посвящен получению данных, используя REST API, средствами языка Питон. Также преобразуем полученную информацию в датафрейм (таблицу), а в конце выгрузим результаты в файл формата .csv.\n",
        "\n",
        "В качестве источника будем использовать сайт https://kinopoiskapiunofficial.tech/. Он стабильней работает, чем  https://www.kinopoisk.ru.\n",
        "\n",
        "Для удобства необходимо зарегистрироваться на сайте для бесплатного получения API ключа (токена), который расчитан на 500 запросов в день. \n",
        "\n",
        "В Питоне даже существуют отдельные библиотеки KinoPoiskAPI, но в данном блокноте они использоваться не будут в целях демонстрации материала в общем виде.\n",
        "\n",
        "На вкладке \"Документация\" сайта https://kinopoiskapiunofficial.tech/ существующие сервисы представлены с помощью графического интерфейса Swagger UI(продукт компании SmartBear). Это своего рода \"умная\" спецификация сервисов, где можно найти всю необходимую информацию о сервисах, методах, схемах, обязательных полях, типах данных и т.п.\n",
        "![image.png](data:image/png;base64,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)\n",
        "\n",
        "Кроме того, через Swagger UI можно отправлять запросы.\n",
        "\n",
        "Все имеющиеся тут сервисы поддерживают только метод GET, т.е. получение данных. Другие стандартные методы POST, PUT, HEAD, DELETE также поддерживаются питоном.\n",
        "\n",
        "Попробуем получить премьеры фильмов за определенный период.\n",
        "\n",
        "Для начала установим необходимые библиотеки"
      ],
      "metadata": {
        "id": "VVeycRW-BbK-"
      }
    },
    {
      "cell_type": "code",
      "source": [
        "!pip install xmltodict"
      ],
      "metadata": {
        "colab": {
          "base_uri": "https://localhost:8080/"
        },
        "id": "ttUtS4jDpxI_",
        "outputId": "14aa5046-6e91-4929-cd79-bc6ea00c7c18"
      },
      "execution_count": 1,
      "outputs": [
        {
          "output_type": "stream",
          "name": "stdout",
          "text": [
            "Looking in indexes: https://pypi.org/simple, https://us-python.pkg.dev/colab-wheels/public/simple/\n",
            "Collecting xmltodict\n",
            "  Downloading xmltodict-0.13.0-py2.py3-none-any.whl (10.0 kB)\n",
            "Installing collected packages: xmltodict\n",
            "Successfully installed xmltodict-0.13.0\n"
          ]
        }
      ]
    },
    {
      "cell_type": "code",
      "execution_count": 2,
      "metadata": {
        "id": "O0Yvkgr_HCXR"
      },
      "outputs": [],
      "source": [
        "import requests\n",
        "import json\n",
        "import xmltodict\n",
        "import pandas as pd"
      ]
    },
    {
      "cell_type": "code",
      "source": [
        "token = '361092b0-aed0-488a-8bd4-bcac462fc9c8' # Токен, используемый в данном блокноте, необходимо заменить на свой."
      ],
      "metadata": {
        "id": "LRxT89CXHDmV"
      },
      "execution_count": 3,
      "outputs": []
    },
    {
      "cell_type": "markdown",
      "source": [
        "По-хорошему, токен лучше сохранить в каком-нибудь файле локально и считывать от туда."
      ],
      "metadata": {
        "id": "RfLEvM09obks"
      }
    },
    {
      "cell_type": "code",
      "source": [
        "url = 'https://kinopoiskapiunofficial.tech/api/v2.2/films/premieres?year=2022&month=AUGUST' #ищем новинки августа 2022 года"
      ],
      "metadata": {
        "id": "Tb9wi1GRHGkk"
      },
      "execution_count": 4,
      "outputs": []
    },
    {
      "cell_type": "code",
      "source": [
        "r = requests.get(url, headers={'accept': 'application/json', \"X-API-KEY\": token}) # выполняем запрос"
      ],
      "metadata": {
        "id": "zZXOqxAdHNF2"
      },
      "execution_count": 5,
      "outputs": []
    },
    {
      "cell_type": "markdown",
      "source": [
        "После выполнения запроса ОБЯЗАТЕЛЬНА прверка статуса выполнения оперции. Он стандартно трехзначный. Начинающиеся с \"2\" означают успешное выполнение (например, 200,  201, 204 и т.д), с \"4\" - ошибка клиента (например, проблемы с авторизацией, ошибки в json, несуществующие данные и т.п.), с \"5\" - ошибка сервера, запрос не может быть обработан.\n"
      ],
      "metadata": {
        "id": "aFCiAcLmqwb-"
      }
    },
    {
      "cell_type": "code",
      "source": [
        "print (r.status_code)"
      ],
      "metadata": {
        "colab": {
          "base_uri": "https://localhost:8080/"
        },
        "id": "Z1nEu7q1HbGM",
        "outputId": "e3f7ab1f-fc41-4cd7-c477-fe958243e5c8"
      },
      "execution_count": 6,
      "outputs": [
        {
          "output_type": "stream",
          "name": "stdout",
          "text": [
            "200\n"
          ]
        }
      ]
    },
    {
      "cell_type": "code",
      "source": [
        "print (r.text)"
      ],
      "metadata": {
        "colab": {
          "base_uri": "https://localhost:8080/"
        },
        "id": "sTHd2rKvHeiI",
        "outputId": "42e3be7b-85d8-4cb0-ff51-91d70cb805f7"
      },
      "execution_count": 7,
      "outputs": [
        {
          "output_type": "stream",
          "name": "stdout",
          "text": [
            "{\"total\":52,\"items\":[{\"kinopoiskId\":1114973,\"nameRu\":\"Большое путешествие\",\"nameEn\":\"\",\"year\":2019,\"posterUrl\":\"https://kinopoiskapiunofficial.tech/images/posters/kp/1114973.jpg\",\"posterUrlPreview\":\"https://kinopoiskapiunofficial.tech/images/posters/kp_small/1114973.jpg\",\"countries\":[{\"country\":\"Россия\"},{\"country\":\"США\"}],\"genres\":[{\"genre\":\"мультфильм\"},{\"genre\":\"комедия\"},{\"genre\":\"приключения\"}],\"duration\":80,\"premiereRu\":\"2022-08-04\"},{\"kinopoiskId\":984204,\"nameRu\":\"Из Неаполя с любовью\",\"nameEn\":\"Troppo napoletano\",\"year\":2016,\"posterUrl\":\"https://kinopoiskapiunofficial.tech/images/posters/kp/984204.jpg\",\"posterUrlPreview\":\"https://kinopoiskapiunofficial.tech/images/posters/kp_small/984204.jpg\",\"countries\":[{\"country\":\"Италия\"}],\"genres\":[{\"genre\":\"комедия\"}],\"duration\":101,\"premiereRu\":\"2022-08-04\"},{\"kinopoiskId\":1111403,\"nameRu\":\"Семейка монстров\",\"nameEn\":\"Petit vampire\",\"year\":2020,\"posterUrl\":\"https://kinopoiskapiunofficial.tech/images/posters/kp/1111403.jpg\",\"posterUrlPreview\":\"https://kinopoiskapiunofficial.tech/images/posters/kp_small/1111403.jpg\",\"countries\":[{\"country\":\"Франция\"},{\"country\":\"Бельгия\"}],\"genres\":[{\"genre\":\"мультфильм\"},{\"genre\":\"фэнтези\"},{\"genre\":\"семейный\"}],\"duration\":82,\"premiereRu\":\"2022-08-04\"},{\"kinopoiskId\":4910311,\"nameRu\":\"Земля. Перезагрузка\",\"nameEn\":\"Chong qi di qiu\",\"year\":2021,\"posterUrl\":\"https://kinopoiskapiunofficial.tech/images/posters/kp/4910311.jpg\",\"posterUrlPreview\":\"https://kinopoiskapiunofficial.tech/images/posters/kp_small/4910311.jpg\",\"countries\":[{\"country\":\"Китай\"}],\"genres\":[{\"genre\":\"фантастика\"},{\"genre\":\"боевик\"}],\"duration\":92,\"premiereRu\":\"2022-08-04\"},{\"kinopoiskId\":4413227,\"nameRu\":\"Убойный монтаж\",\"nameEn\":\"Coupé\",\"year\":2022,\"posterUrl\":\"https://kinopoiskapiunofficial.tech/images/posters/kp/4413227.jpg\",\"posterUrlPreview\":\"https://kinopoiskapiunofficial.tech/images/posters/kp_small/4413227.jpg\",\"countries\":[{\"country\":\"Франция\"},{\"country\":\"Великобритания\"},{\"country\":\"Япония\"}],\"genres\":[{\"genre\":\"ужасы\"},{\"genre\":\"комедия\"}],\"duration\":110,\"premiereRu\":\"2022-08-04\"},{\"kinopoiskId\":1332073,\"nameRu\":\"Проклятие матери: Прятки на выживание\",\"nameEn\":\"Motherly\",\"year\":2021,\"posterUrl\":\"https://kinopoiskapiunofficial.tech/images/posters/kp/1332073.jpg\",\"posterUrlPreview\":\"https://kinopoiskapiunofficial.tech/images/posters/kp_small/1332073.jpg\",\"countries\":[{\"country\":\"Канада\"}],\"genres\":[{\"genre\":\"ужасы\"},{\"genre\":\"триллер\"}],\"duration\":80,\"premiereRu\":\"2022-08-04\"},{\"kinopoiskId\":1273624,\"nameRu\":\"Стоп-кран\",\"nameEn\":\"Attention au départ!\",\"year\":2021,\"posterUrl\":\"https://kinopoiskapiunofficial.tech/images/posters/kp/1273624.jpg\",\"posterUrlPreview\":\"https://kinopoiskapiunofficial.tech/images/posters/kp_small/1273624.jpg\",\"countries\":[{\"country\":\"Франция\"},{\"country\":\"Бельгия\"}],\"genres\":[{\"genre\":\"комедия\"}],\"duration\":93,\"premiereRu\":\"2022-08-04\"},{\"kinopoiskId\":1449363,\"nameRu\":\"Уховёртка\",\"nameEn\":\"Earwig\",\"year\":2021,\"posterUrl\":\"https://kinopoiskapiunofficial.tech/images/posters/kp/1449363.jpg\",\"posterUrlPreview\":\"https://kinopoiskapiunofficial.tech/images/posters/kp_small/1449363.jpg\",\"countries\":[{\"country\":\"Великобритания\"},{\"country\":\"Франция\"},{\"country\":\"Бельгия\"}],\"genres\":[{\"genre\":\"ужасы\"},{\"genre\":\"фэнтези\"},{\"genre\":\"драма\"}],\"duration\":114,\"premiereRu\":\"2022-08-04\"},{\"kinopoiskId\":4480923,\"nameRu\":\"Бойся темноты\",\"nameEn\":\"Ogre\",\"year\":2021,\"posterUrl\":\"https://kinopoiskapiunofficial.tech/images/posters/kp/4480923.jpg\",\"posterUrlPreview\":\"https://kinopoiskapiunofficial.tech/images/posters/kp_small/4480923.jpg\",\"countries\":[{\"country\":\"Бельгия\"},{\"country\":\"Франция\"}],\"genres\":[{\"genre\":\"ужасы\"},{\"genre\":\"фэнтези\"},{\"genre\":\"драма\"}],\"duration\":103,\"premiereRu\":\"2022-08-04\"},{\"kinopoiskId\":708187,\"nameRu\":\"Русалка и дочь короля\",\"nameEn\":\"The King's Daughter\",\"year\":2021,\"posterUrl\":\"https://kinopoiskapiunofficial.tech/images/posters/kp/708187.jpg\",\"posterUrlPreview\":\"https://kinopoiskapiunofficial.tech/images/posters/kp_small/708187.jpg\",\"countries\":[{\"country\":\"Австралия\"},{\"country\":\"США\"}],\"genres\":[{\"genre\":\"фэнтези\"},{\"genre\":\"приключения\"},{\"genre\":\"мелодрама\"}],\"duration\":90,\"premiereRu\":\"2022-08-11\"},{\"kinopoiskId\":954504,\"nameRu\":\"К черту на рога\",\"nameEn\":\"Quo vado?\",\"year\":2015,\"posterUrl\":\"https://kinopoiskapiunofficial.tech/images/posters/kp/954504.jpg\",\"posterUrlPreview\":\"https://kinopoiskapiunofficial.tech/images/posters/kp_small/954504.jpg\",\"countries\":[{\"country\":\"Италия\"}],\"genres\":[{\"genre\":\"комедия\"}],\"duration\":86,\"premiereRu\":\"2022-08-11\"},{\"kinopoiskId\":1209780,\"nameRu\":\"Маугли дикой планеты\",\"nameEn\":\"Terra Willy: Planète inconnue\",\"year\":2019,\"posterUrl\":\"https://kinopoiskapiunofficial.tech/images/posters/kp/1209780.jpg\",\"posterUrlPreview\":\"https://kinopoiskapiunofficial.tech/images/posters/kp_small/1209780.jpg\",\"countries\":[{\"country\":\"Франция\"}],\"genres\":[{\"genre\":\"мультфильм\"},{\"genre\":\"фантастика\"},{\"genre\":\"комедия\"}],\"duration\":90,\"premiereRu\":\"2022-08-11\"},{\"kinopoiskId\":4542208,\"nameRu\":\"Вышка\",\"nameEn\":\"Fall\",\"year\":2022,\"posterUrl\":\"https://kinopoiskapiunofficial.tech/images/posters/kp/4542208.jpg\",\"posterUrlPreview\":\"https://kinopoiskapiunofficial.tech/images/posters/kp_small/4542208.jpg\",\"countries\":[{\"country\":\"Великобритания\"},{\"country\":\"США\"}],\"genres\":[{\"genre\":\"триллер\"}],\"duration\":107,\"premiereRu\":\"2022-08-11\"},{\"kinopoiskId\":42644,\"nameRu\":\"История Аси Клячиной, которая любила, да не вышла замуж\",\"nameEn\":\"\",\"year\":1967,\"posterUrl\":\"https://kinopoiskapiunofficial.tech/images/posters/kp/42644.jpg\",\"posterUrlPreview\":\"https://kinopoiskapiunofficial.tech/images/posters/kp_small/42644.jpg\",\"countries\":[{\"country\":\"СССР\"}],\"genres\":[{\"genre\":\"драма\"},{\"genre\":\"мелодрама\"}],\"duration\":99,\"premiereRu\":\"2022-08-11\"},{\"kinopoiskId\":957643,\"nameRu\":\"Счастье быть одной\",\"nameEn\":\"Assolo\",\"year\":2016,\"posterUrl\":\"https://kinopoiskapiunofficial.tech/images/posters/kp/957643.jpg\",\"posterUrlPreview\":\"https://kinopoiskapiunofficial.tech/images/posters/kp_small/957643.jpg\",\"countries\":[{\"country\":\"Италия\"}],\"genres\":[{\"genre\":\"комедия\"},{\"genre\":\"мелодрама\"}],\"duration\":97,\"premiereRu\":\"2022-08-11\"},{\"kinopoiskId\":1446032,\"nameRu\":\"Дитя тьмы: Первая жертва\",\"nameEn\":\"Orphan: First Kill\",\"year\":2021,\"posterUrl\":\"https://kinopoiskapiunofficial.tech/images/posters/kp/1446032.jpg\",\"posterUrlPreview\":\"https://kinopoiskapiunofficial.tech/images/posters/kp_small/1446032.jpg\",\"countries\":[{\"country\":\"США\"},{\"country\":\"Канада\"}],\"genres\":[{\"genre\":\"триллер\"},{\"genre\":\"драма\"},{\"genre\":\"криминал\"}],\"duration\":98,\"premiereRu\":\"2022-08-11\"},{\"kinopoiskId\":1256273,\"nameRu\":\"Архипелаг\",\"nameEn\":\"\",\"year\":2020,\"posterUrl\":\"https://kinopoiskapiunofficial.tech/images/posters/kp/1256273.jpg\",\"posterUrlPreview\":\"https://kinopoiskapiunofficial.tech/images/posters/kp_small/1256273.jpg\",\"countries\":[{\"country\":\"Россия\"}],\"genres\":[{\"genre\":\"драма\"},{\"genre\":\"мелодрама\"}],\"duration\":100,\"premiereRu\":\"2022-08-11\"},{\"kinopoiskId\":4309991,\"nameRu\":\"Форсаж. Китайский дрифт\",\"nameEn\":\"Chi zha feng yun\",\"year\":2021,\"posterUrl\":\"https://kinopoiskapiunofficial.tech/images/posters/kp/4309991.jpg\",\"posterUrlPreview\":\"https://kinopoiskapiunofficial.tech/images/posters/kp_small/4309991.jpg\",\"countries\":[{\"country\":\"Тайвань\"}],\"genres\":[{\"genre\":\"спорт\"},{\"genre\":\"драма\"}],\"duration\":105,\"premiereRu\":\"2022-08-11\"},{\"kinopoiskId\":4517052,\"nameRu\":\"Легенды Орлёнка\",\"nameEn\":\"\",\"year\":2021,\"posterUrl\":\"https://kinopoiskapiunofficial.tech/images/posters/kp/4517052.jpg\",\"posterUrlPreview\":\"https://kinopoiskapiunofficial.tech/images/posters/kp_small/4517052.jpg\",\"countries\":[{\"country\":\"Россия\"}],\"genres\":[{\"genre\":\"комедия\"},{\"genre\":\"семейный\"},{\"genre\":\"фэнтези\"}],\"duration\":89,\"premiereRu\":\"2022-08-11\"},{\"kinopoiskId\":4401506,\"nameRu\":\"Великий «Юнайтед»\",\"nameEn\":\"The United Way\",\"year\":2021,\"posterUrl\":\"https://kinopoiskapiunofficial.tech/images/posters/kp/4401506.jpg\",\"posterUrlPreview\":\"https://kinopoiskapiunofficial.tech/images/posters/kp_small/4401506.jpg\",\"countries\":[{\"country\":\"Великобритания\"}],\"genres\":[{\"genre\":\"документальный\"},{\"genre\":\"история\"},{\"genre\":\"спорт\"}],\"duration\":90,\"premiereRu\":\"2022-08-11\"},{\"kinopoiskId\":4929765,\"nameRu\":\"История кино: Новое поколение\",\"nameEn\":\"The Story of Film: A New Generation\",\"year\":2021,\"posterUrl\":\"https://kinopoiskapiunofficial.tech/images/posters/kp/4929765.jpg\",\"posterUrlPreview\":\"https://kinopoiskapiunofficial.tech/images/posters/kp_small/4929765.jpg\",\"countries\":[{\"country\":\"Великобритания\"}],\"genres\":[{\"genre\":\"документальный\"}],\"duration\":160,\"premiereRu\":\"2022-08-11\"},{\"kinopoiskId\":5065817,\"nameRu\":\"МУЛЬТ в кино. Выпуск №146. Ребята, давайте смотреть дружно\",\"nameEn\":\"\",\"year\":2022,\"posterUrl\":\"https://kinopoiskapiunofficial.tech/images/posters/kp/5065817.jpg\",\"posterUrlPreview\":\"https://kinopoiskapiunofficial.tech/images/posters/kp_small/5065817.jpg\",\"countries\":[{\"country\":\"Россия\"}],\"genres\":[{\"genre\":\"детский\"},{\"genre\":\"мультфильм\"}],\"duration\":41,\"premiereRu\":\"2022-08-13\"},{\"kinopoiskId\":432550,\"nameRu\":\"Неудержимые\",\"nameEn\":\"The Expendables\",\"year\":2010,\"posterUrl\":\"https://kinopoiskapiunofficial.tech/images/posters/kp/432550.jpg\",\"posterUrlPreview\":\"https://kinopoiskapiunofficial.tech/images/posters/kp_small/432550.jpg\",\"countries\":[{\"country\":\"США\"},{\"country\":\"Болгария\"},{\"country\":\"Испания\"}],\"genres\":[{\"genre\":\"боевик\"},{\"genre\":\"приключения\"},{\"genre\":\"триллер\"}],\"duration\":103,\"premiereRu\":\"2022-08-18\"},{\"kinopoiskId\":571288,\"nameRu\":\"Неудержимые 2\",\"nameEn\":\"The Expendables 2\",\"year\":2012,\"posterUrl\":\"https://kinopoiskapiunofficial.tech/images/posters/kp/571288.jpg\",\"posterUrlPreview\":\"https://kinopoiskapiunofficial.tech/images/posters/kp_small/571288.jpg\",\"countries\":[{\"country\":\"США\"},{\"country\":\"Германия\"},{\"country\":\"Китай\"}],\"genres\":[{\"genre\":\"боевик\"},{\"genre\":\"триллер\"},{\"genre\":\"приключения\"}],\"duration\":103,\"premiereRu\":\"2022-08-18\"},{\"kinopoiskId\":696813,\"nameRu\":\"Неудержимые 3\",\"nameEn\":\"The Expendables 3\",\"year\":2014,\"posterUrl\":\"https://kinopoiskapiunofficial.tech/images/posters/kp/696813.jpg\",\"posterUrlPreview\":\"https://kinopoiskapiunofficial.tech/images/posters/kp_small/696813.jpg\",\"countries\":[{\"country\":\"Франция\"},{\"country\":\"Германия\"},{\"country\":\"Болгария\"}],\"genres\":[{\"genre\":\"боевик\"},{\"genre\":\"триллер\"},{\"genre\":\"приключения\"}],\"duration\":126,\"premiereRu\":\"2022-08-18\"},{\"kinopoiskId\":818981,\"nameRu\":\"Реальные упыри\",\"nameEn\":\"What We Do in the Shadows\",\"year\":2014,\"posterUrl\":\"https://kinopoiskapiunofficial.tech/images/posters/kp/818981.jpg\",\"posterUrlPreview\":\"https://kinopoiskapiunofficial.tech/images/posters/kp_small/818981.jpg\",\"countries\":[{\"country\":\"Новая Зеландия\"}],\"genres\":[{\"genre\":\"комедия\"},{\"genre\":\"ужасы\"}],\"duration\":85,\"premiereRu\":\"2022-08-18\"},{\"kinopoiskId\":41047,\"nameRu\":\"Ширли-мырли\",\"nameEn\":\"\",\"year\":1995,\"posterUrl\":\"https://kinopoiskapiunofficial.tech/images/posters/kp/41047.jpg\",\"posterUrlPreview\":\"https://kinopoiskapiunofficial.tech/images/posters/kp_small/41047.jpg\",\"countries\":[{\"country\":\"Россия\"}],\"genres\":[{\"genre\":\"комедия\"}],\"duration\":143,\"premiereRu\":\"2022-08-18\"},{\"kinopoiskId\":814482,\"nameRu\":\"Венецианские львы\",\"nameEn\":\"Leoni\",\"year\":2015,\"posterUrl\":\"https://kinopoiskapiunofficial.tech/images/posters/kp/814482.jpg\",\"posterUrlPreview\":\"https://kinopoiskapiunofficial.tech/images/posters/kp_small/814482.jpg\",\"countries\":[{\"country\":\"Италия\"}],\"genres\":[{\"genre\":\"комедия\"}],\"duration\":90,\"premiereRu\":\"2022-08-18\"},{\"kinopoiskId\":1168884,\"nameRu\":\"Проклятый остров\",\"nameEn\":\"Patients of a Saint\",\"year\":2020,\"posterUrl\":\"https://kinopoiskapiunofficial.tech/images/posters/kp/1168884.jpg\",\"posterUrlPreview\":\"https://kinopoiskapiunofficial.tech/images/posters/kp_small/1168884.jpg\",\"countries\":[{\"country\":\"Великобритания\"}],\"genres\":[{\"genre\":\"ужасы\"}],\"duration\":106,\"premiereRu\":\"2022-08-18\"},{\"kinopoiskId\":1411649,\"nameRu\":\"Челюсти. Столкновение\",\"nameEn\":\"Shark Bait\",\"year\":2021,\"posterUrl\":\"https://kinopoiskapiunofficial.tech/images/posters/kp/1411649.jpg\",\"posterUrlPreview\":\"https://kinopoiskapiunofficial.tech/images/posters/kp_small/1411649.jpg\",\"countries\":[{\"country\":\"Великобритания\"}],\"genres\":[{\"genre\":\"триллер\"},{\"genre\":\"ужасы\"}],\"duration\":86,\"premiereRu\":\"2022-08-18\"},{\"kinopoiskId\":1395858,\"nameRu\":\"Позывной «Барон»\",\"nameEn\":\"\",\"year\":2020,\"posterUrl\":\"https://kinopoiskapiunofficial.tech/images/posters/kp/1395858.jpg\",\"posterUrlPreview\":\"https://kinopoiskapiunofficial.tech/images/posters/kp_small/1395858.jpg\",\"countries\":[{\"country\":\"Россия\"},{\"country\":\"Узбекистан\"}],\"genres\":[{\"genre\":\"боевик\"},{\"genre\":\"криминал\"},{\"genre\":\"драма\"}],\"duration\":117,\"premiereRu\":\"2022-08-18\"},{\"kinopoiskId\":1334311,\"nameRu\":\"Мия и я: Легенда Сентопии\",\"nameEn\":\"The Hero of Centopia\",\"year\":2022,\"posterUrl\":\"https://kinopoiskapiunofficial.tech/images/posters/kp/1334311.jpg\",\"posterUrlPreview\":\"https://kinopoiskapiunofficial.tech/images/posters/kp_small/1334311.jpg\",\"countries\":[{\"country\":\"Германия\"},{\"country\":\"Австралия\"},{\"country\":\"Бельгия\"}],\"genres\":[{\"genre\":\"мультфильм\"},{\"genre\":\"фэнтези\"},{\"genre\":\"приключения\"}],\"duration\":82,\"premiereRu\":\"2022-08-18\"},{\"kinopoiskId\":5034524,\"nameRu\":\"Ночной режим. Фильм\",\"nameEn\":\"\",\"year\":2022,\"posterUrl\":\"https://kinopoiskapiunofficial.tech/images/posters/kp/5034524.jpg\",\"posterUrlPreview\":\"https://kinopoiskapiunofficial.tech/images/posters/kp_small/5034524.jpg\",\"countries\":[{\"country\":\"Россия\"}],\"genres\":[{\"genre\":\"триллер\"},{\"genre\":\"фантастика\"}],\"duration\":122,\"premiereRu\":\"2022-08-18\"},{\"kinopoiskId\":1435722,\"nameRu\":\"Развод в стиле кунг-фу\",\"nameEn\":\"Kung Fu Zohra\",\"year\":2022,\"posterUrl\":\"https://kinopoiskapiunofficial.tech/images/posters/kp/1435722.jpg\",\"posterUrlPreview\":\"https://kinopoiskapiunofficial.tech/images/posters/kp_small/1435722.jpg\",\"countries\":[{\"country\":\"Франция\"},{\"country\":\"Бельгия\"}],\"genres\":[{\"genre\":\"боевик\"},{\"genre\":\"драма\"}],\"duration\":100,\"premiereRu\":\"2022-08-18\"},{\"kinopoiskId\":4862812,\"nameRu\":\"Икар\",\"nameEn\":\"Icare\",\"year\":2022,\"posterUrl\":\"https://kinopoiskapiunofficial.tech/images/posters/kp/4862812.jpg\",\"posterUrlPreview\":\"https://kinopoiskapiunofficial.tech/images/posters/kp_small/4862812.jpg\",\"countries\":[{\"country\":\"Люксембург\"},{\"country\":\"Франция\"},{\"country\":\"Бельгия\"}],\"genres\":[{\"genre\":\"мультфильм\"},{\"genre\":\"приключения\"},{\"genre\":\"семейный\"}],\"duration\":76,\"premiereRu\":\"2022-08-18\"},{\"kinopoiskId\":5041485,\"nameRu\":\"Слуга государев. Режиссерская версия\",\"nameEn\":\"\",\"year\":2022,\"posterUrl\":\"https://kinopoiskapiunofficial.tech/images/posters/kp/5041485.jpg\",\"posterUrlPreview\":\"https://kinopoiskapiunofficial.tech/images/posters/kp_small/5041485.jpg\",\"countries\":[{\"country\":\"Россия\"}],\"genres\":[{\"genre\":\"боевик\"},{\"genre\":\"приключения\"},{\"genre\":\"военный\"}],\"duration\":119,\"premiereRu\":\"2022-08-18\"},{\"kinopoiskId\":5066770,\"nameRu\":\"СоюзКиноМульт. Выпуск №2: «Простоквашино» и все-все-все»\",\"nameEn\":\"\",\"year\":2022,\"posterUrl\":\"https://kinopoiskapiunofficial.tech/images/posters/kp/5066770.jpg\",\"posterUrlPreview\":\"https://kinopoiskapiunofficial.tech/images/posters/kp_small/5066770.jpg\",\"countries\":[{\"country\":\"Россия\"}],\"genres\":[{\"genre\":\"мультфильм\"},{\"genre\":\"детский\"},{\"genre\":\"семейный\"}],\"duration\":47,\"premiereRu\":\"2022-08-18\"},{\"kinopoiskId\":5066711,\"nameRu\":\"Маленький принц\",\"nameEn\":\"\",\"year\":2022,\"posterUrl\":\"https://kinopoiskapiunofficial.tech/images/posters/kp/5066711.jpg\",\"posterUrlPreview\":\"https://kinopoiskapiunofficial.tech/images/posters/kp_small/5066711.jpg\",\"countries\":[{\"country\":\"Россия\"}],\"genres\":[{\"genre\":\"фэнтези\"},{\"genre\":\"семейный\"},{\"genre\":\"короткометражка\"}],\"duration\":32,\"premiereRu\":\"2022-08-18\"},{\"kinopoiskId\":3670,\"nameRu\":\"The Doors\",\"nameEn\":\"The Doors\",\"year\":1991,\"posterUrl\":\"https://kinopoiskapiunofficial.tech/images/posters/kp/3670.jpg\",\"posterUrlPreview\":\"https://kinopoiskapiunofficial.tech/images/posters/kp_small/3670.jpg\",\"countries\":[{\"country\":\"США\"},{\"country\":\"Франция\"}],\"genres\":[{\"genre\":\"драма\"},{\"genre\":\"биография\"},{\"genre\":\"музыка\"}],\"duration\":140,\"premiereRu\":\"2022-08-25\"},{\"kinopoiskId\":1210186,\"nameRu\":\"Первая корова\",\"nameEn\":\"First Cow\",\"year\":2019,\"posterUrl\":\"https://kinopoiskapiunofficial.tech/images/posters/kp/1210186.jpg\",\"posterUrlPreview\":\"https://kinopoiskapiunofficial.tech/images/posters/kp_small/1210186.jpg\",\"countries\":[{\"country\":\"США\"}],\"genres\":[{\"genre\":\"драма\"},{\"genre\":\"вестерн\"}],\"duration\":122,\"premiereRu\":\"2022-08-25\"},{\"kinopoiskId\":1015802,\"nameRu\":\"Между нами, девочками\",\"nameEn\":\"Qualcosa di nuovo\",\"year\":2016,\"posterUrl\":\"https://kinopoiskapiunofficial.tech/images/posters/kp/1015802.jpg\",\"posterUrlPreview\":\"https://kinopoiskapiunofficial.tech/images/posters/kp_small/1015802.jpg\",\"countries\":[{\"country\":\"Италия\"}],\"genres\":[{\"genre\":\"комедия\"}],\"duration\":93,\"premiereRu\":\"2022-08-25\"},{\"kinopoiskId\":4517646,\"nameRu\":\"Мы — монстры 2\",\"nameEn\":\"Monster Family 2\",\"year\":2021,\"posterUrl\":\"https://kinopoiskapiunofficial.tech/images/posters/kp/4517646.jpg\",\"posterUrlPreview\":\"https://kinopoiskapiunofficial.tech/images/posters/kp_small/4517646.jpg\",\"countries\":[{\"country\":\"Германия\"},{\"country\":\"Великобритания\"}],\"genres\":[{\"genre\":\"мультфильм\"},{\"genre\":\"фэнтези\"},{\"genre\":\"комедия\"}],\"duration\":90,\"premiereRu\":\"2022-08-25\"},{\"kinopoiskId\":1411988,\"nameRu\":\"После. Долго и счастливо\",\"nameEn\":\"After Ever Happy\",\"year\":2022,\"posterUrl\":\"https://kinopoiskapiunofficial.tech/images/posters/kp/1411988.jpg\",\"posterUrlPreview\":\"https://kinopoiskapiunofficial.tech/images/posters/kp_small/1411988.jpg\",\"countries\":[{\"country\":\"США\"}],\"genres\":[{\"genre\":\"мелодрама\"},{\"genre\":\"драма\"}],\"duration\":95,\"premiereRu\":\"2022-08-25\"},{\"kinopoiskId\":1325605,\"nameRu\":\"Друг на продажу\",\"nameEn\":\"\",\"year\":2021,\"posterUrl\":\"https://kinopoiskapiunofficial.tech/images/posters/kp/1325605.jpg\",\"posterUrlPreview\":\"https://kinopoiskapiunofficial.tech/images/posters/kp_small/1325605.jpg\",\"countries\":[{\"country\":\"Россия\"}],\"genres\":[{\"genre\":\"комедия\"}],\"duration\":102,\"premiereRu\":\"2022-08-25\"},{\"kinopoiskId\":4518842,\"nameRu\":\"Барбоскины Team\",\"nameEn\":\"\",\"year\":2022,\"posterUrl\":\"https://kinopoiskapiunofficial.tech/images/posters/kp/4518842.jpg\",\"posterUrlPreview\":\"https://kinopoiskapiunofficial.tech/images/posters/kp_small/4518842.jpg\",\"countries\":[{\"country\":\"Россия\"}],\"genres\":[{\"genre\":\"мультфильм\"},{\"genre\":\"мюзикл\"}],\"duration\":75,\"premiereRu\":\"2022-08-25\"},{\"kinopoiskId\":4438994,\"nameRu\":\"Идеальное убийство\",\"nameEn\":\"The Good Neighbor\",\"year\":2022,\"posterUrl\":\"https://kinopoiskapiunofficial.tech/images/posters/kp/4438994.jpg\",\"posterUrlPreview\":\"https://kinopoiskapiunofficial.tech/images/posters/kp_small/4438994.jpg\",\"countries\":[{\"country\":\"США\"},{\"country\":\"Латвия\"}],\"genres\":[{\"genre\":\"триллер\"},{\"genre\":\"детектив\"}],\"duration\":106,\"premiereRu\":\"2022-08-25\"},{\"kinopoiskId\":4396078,\"nameRu\":\"Неубиваемый\",\"nameEn\":\"Bullet Proof\",\"year\":2022,\"posterUrl\":\"https://kinopoiskapiunofficial.tech/images/posters/kp/4396078.jpg\",\"posterUrlPreview\":\"https://kinopoiskapiunofficial.tech/images/posters/kp_small/4396078.jpg\",\"countries\":[{\"country\":\"Канада\"}],\"genres\":[{\"genre\":\"боевик\"}],\"duration\":81,\"premiereRu\":\"2022-08-25\"},{\"kinopoiskId\":4947225,\"nameRu\":\"Гостья из космоса\",\"nameEn\":\"Lille Allan - den menneskelige antenne\",\"year\":2022,\"posterUrl\":\"https://kinopoiskapiunofficial.tech/images/posters/kp/4947225.jpg\",\"posterUrlPreview\":\"https://kinopoiskapiunofficial.tech/images/posters/kp_small/4947225.jpg\",\"countries\":[{\"country\":\"Дания\"}],\"genres\":[{\"genre\":\"мультфильм\"},{\"genre\":\"приключения\"},{\"genre\":\"семейный\"}],\"duration\":85,\"premiereRu\":\"2022-08-25\"},{\"kinopoiskId\":4522328,\"nameRu\":\"Лена и справедливость\",\"nameEn\":\"\",\"year\":2021,\"posterUrl\":\"https://kinopoiskapiunofficial.tech/images/posters/kp/4522328.jpg\",\"posterUrlPreview\":\"https://kinopoiskapiunofficial.tech/images/posters/kp_small/4522328.jpg\",\"countries\":[{\"country\":\"Россия\"}],\"genres\":[{\"genre\":\"комедия\"}],\"duration\":90,\"premiereRu\":\"2022-08-25\"},{\"kinopoiskId\":4720113,\"nameRu\":\"Все ненавидят Йохана\",\"nameEn\":\"Alle hater Johan\",\"year\":2022,\"posterUrl\":\"https://kinopoiskapiunofficial.tech/images/posters/kp/4720113.jpg\",\"posterUrlPreview\":\"https://kinopoiskapiunofficial.tech/images/posters/kp_small/4720113.jpg\",\"countries\":[{\"country\":\"Норвегия\"}],\"genres\":[{\"genre\":\"комедия\"}],\"duration\":93,\"premiereRu\":\"2022-08-25\"},{\"kinopoiskId\":4512151,\"nameRu\":\"Залёт\",\"nameEn\":\"Le test\",\"year\":2021,\"posterUrl\":\"https://kinopoiskapiunofficial.tech/images/posters/kp/4512151.jpg\",\"posterUrlPreview\":\"https://kinopoiskapiunofficial.tech/images/posters/kp_small/4512151.jpg\",\"countries\":[{\"country\":\"Франция\"}],\"genres\":[{\"genre\":\"комедия\"}],\"duration\":85,\"premiereRu\":\"2022-08-25\"},{\"kinopoiskId\":1228602,\"nameRu\":\"Кобра\",\"nameEn\":\"Cobra\",\"year\":2022,\"posterUrl\":\"https://kinopoiskapiunofficial.tech/images/posters/kp/1228602.jpg\",\"posterUrlPreview\":\"https://kinopoiskapiunofficial.tech/images/posters/kp_small/1228602.jpg\",\"countries\":[{\"country\":\"Индия\"}],\"genres\":[{\"genre\":\"боевик\"},{\"genre\":\"триллер\"},{\"genre\":\"криминал\"}],\"duration\":183,\"premiereRu\":\"2022-08-31\"}]}\n"
          ]
        }
      ]
    },
    {
      "cell_type": "code",
      "source": [
        "result = r.json()  #  получаем представление данных в виде объекта Python"
      ],
      "metadata": {
        "id": "MlTfRysqMSNK"
      },
      "execution_count": 8,
      "outputs": []
    },
    {
      "cell_type": "code",
      "source": [
        "print (result)"
      ],
      "metadata": {
        "colab": {
          "base_uri": "https://localhost:8080/"
        },
        "id": "Z2-EuncyMePx",
        "outputId": "8bb51c01-24bb-42ef-e1dc-efc9970ae20c"
      },
      "execution_count": 9,
      "outputs": [
        {
          "output_type": "stream",
          "name": "stdout",
          "text": [
            "{'total': 52, 'items': [{'kinopoiskId': 1114973, 'nameRu': 'Большое путешествие', 'nameEn': '', 'year': 2019, 'posterUrl': 'https://kinopoiskapiunofficial.tech/images/posters/kp/1114973.jpg', 'posterUrlPreview': 'https://kinopoiskapiunofficial.tech/images/posters/kp_small/1114973.jpg', 'countries': [{'country': 'Россия'}, {'country': 'США'}], 'genres': [{'genre': 'мультфильм'}, {'genre': 'комедия'}, {'genre': 'приключения'}], 'duration': 80, 'premiereRu': '2022-08-04'}, {'kinopoiskId': 984204, 'nameRu': 'Из Неаполя с любовью', 'nameEn': 'Troppo napoletano', 'year': 2016, 'posterUrl': 'https://kinopoiskapiunofficial.tech/images/posters/kp/984204.jpg', 'posterUrlPreview': 'https://kinopoiskapiunofficial.tech/images/posters/kp_small/984204.jpg', 'countries': [{'country': 'Италия'}], 'genres': [{'genre': 'комедия'}], 'duration': 101, 'premiereRu': '2022-08-04'}, {'kinopoiskId': 1111403, 'nameRu': 'Семейка монстров', 'nameEn': 'Petit vampire', 'year': 2020, 'posterUrl': 'https://kinopoiskapiunofficial.tech/images/posters/kp/1111403.jpg', 'posterUrlPreview': 'https://kinopoiskapiunofficial.tech/images/posters/kp_small/1111403.jpg', 'countries': [{'country': 'Франция'}, {'country': 'Бельгия'}], 'genres': [{'genre': 'мультфильм'}, {'genre': 'фэнтези'}, {'genre': 'семейный'}], 'duration': 82, 'premiereRu': '2022-08-04'}, {'kinopoiskId': 4910311, 'nameRu': 'Земля. Перезагрузка', 'nameEn': 'Chong qi di qiu', 'year': 2021, 'posterUrl': 'https://kinopoiskapiunofficial.tech/images/posters/kp/4910311.jpg', 'posterUrlPreview': 'https://kinopoiskapiunofficial.tech/images/posters/kp_small/4910311.jpg', 'countries': [{'country': 'Китай'}], 'genres': [{'genre': 'фантастика'}, {'genre': 'боевик'}], 'duration': 92, 'premiereRu': '2022-08-04'}, {'kinopoiskId': 4413227, 'nameRu': 'Убойный монтаж', 'nameEn': 'Coupé', 'year': 2022, 'posterUrl': 'https://kinopoiskapiunofficial.tech/images/posters/kp/4413227.jpg', 'posterUrlPreview': 'https://kinopoiskapiunofficial.tech/images/posters/kp_small/4413227.jpg', 'countries': [{'country': 'Франция'}, {'country': 'Великобритания'}, {'country': 'Япония'}], 'genres': [{'genre': 'ужасы'}, {'genre': 'комедия'}], 'duration': 110, 'premiereRu': '2022-08-04'}, {'kinopoiskId': 1332073, 'nameRu': 'Проклятие матери: Прятки на выживание', 'nameEn': 'Motherly', 'year': 2021, 'posterUrl': 'https://kinopoiskapiunofficial.tech/images/posters/kp/1332073.jpg', 'posterUrlPreview': 'https://kinopoiskapiunofficial.tech/images/posters/kp_small/1332073.jpg', 'countries': [{'country': 'Канада'}], 'genres': [{'genre': 'ужасы'}, {'genre': 'триллер'}], 'duration': 80, 'premiereRu': '2022-08-04'}, {'kinopoiskId': 1273624, 'nameRu': 'Стоп-кран', 'nameEn': 'Attention au départ!', 'year': 2021, 'posterUrl': 'https://kinopoiskapiunofficial.tech/images/posters/kp/1273624.jpg', 'posterUrlPreview': 'https://kinopoiskapiunofficial.tech/images/posters/kp_small/1273624.jpg', 'countries': [{'country': 'Франция'}, {'country': 'Бельгия'}], 'genres': [{'genre': 'комедия'}], 'duration': 93, 'premiereRu': '2022-08-04'}, {'kinopoiskId': 1449363, 'nameRu': 'Уховёртка', 'nameEn': 'Earwig', 'year': 2021, 'posterUrl': 'https://kinopoiskapiunofficial.tech/images/posters/kp/1449363.jpg', 'posterUrlPreview': 'https://kinopoiskapiunofficial.tech/images/posters/kp_small/1449363.jpg', 'countries': [{'country': 'Великобритания'}, {'country': 'Франция'}, {'country': 'Бельгия'}], 'genres': [{'genre': 'ужасы'}, {'genre': 'фэнтези'}, {'genre': 'драма'}], 'duration': 114, 'premiereRu': '2022-08-04'}, {'kinopoiskId': 4480923, 'nameRu': 'Бойся темноты', 'nameEn': 'Ogre', 'year': 2021, 'posterUrl': 'https://kinopoiskapiunofficial.tech/images/posters/kp/4480923.jpg', 'posterUrlPreview': 'https://kinopoiskapiunofficial.tech/images/posters/kp_small/4480923.jpg', 'countries': [{'country': 'Бельгия'}, {'country': 'Франция'}], 'genres': [{'genre': 'ужасы'}, {'genre': 'фэнтези'}, {'genre': 'драма'}], 'duration': 103, 'premiereRu': '2022-08-04'}, {'kinopoiskId': 708187, 'nameRu': 'Русалка и дочь короля', 'nameEn': \"The King's Daughter\", 'year': 2021, 'posterUrl': 'https://kinopoiskapiunofficial.tech/images/posters/kp/708187.jpg', 'posterUrlPreview': 'https://kinopoiskapiunofficial.tech/images/posters/kp_small/708187.jpg', 'countries': [{'country': 'Австралия'}, {'country': 'США'}], 'genres': [{'genre': 'фэнтези'}, {'genre': 'приключения'}, {'genre': 'мелодрама'}], 'duration': 90, 'premiereRu': '2022-08-11'}, {'kinopoiskId': 954504, 'nameRu': 'К черту на рога', 'nameEn': 'Quo vado?', 'year': 2015, 'posterUrl': 'https://kinopoiskapiunofficial.tech/images/posters/kp/954504.jpg', 'posterUrlPreview': 'https://kinopoiskapiunofficial.tech/images/posters/kp_small/954504.jpg', 'countries': [{'country': 'Италия'}], 'genres': [{'genre': 'комедия'}], 'duration': 86, 'premiereRu': '2022-08-11'}, {'kinopoiskId': 1209780, 'nameRu': 'Маугли дикой планеты', 'nameEn': 'Terra Willy: Planète inconnue', 'year': 2019, 'posterUrl': 'https://kinopoiskapiunofficial.tech/images/posters/kp/1209780.jpg', 'posterUrlPreview': 'https://kinopoiskapiunofficial.tech/images/posters/kp_small/1209780.jpg', 'countries': [{'country': 'Франция'}], 'genres': [{'genre': 'мультфильм'}, {'genre': 'фантастика'}, {'genre': 'комедия'}], 'duration': 90, 'premiereRu': '2022-08-11'}, {'kinopoiskId': 4542208, 'nameRu': 'Вышка', 'nameEn': 'Fall', 'year': 2022, 'posterUrl': 'https://kinopoiskapiunofficial.tech/images/posters/kp/4542208.jpg', 'posterUrlPreview': 'https://kinopoiskapiunofficial.tech/images/posters/kp_small/4542208.jpg', 'countries': [{'country': 'Великобритания'}, {'country': 'США'}], 'genres': [{'genre': 'триллер'}], 'duration': 107, 'premiereRu': '2022-08-11'}, {'kinopoiskId': 42644, 'nameRu': 'История Аси Клячиной, которая любила, да не вышла замуж', 'nameEn': '', 'year': 1967, 'posterUrl': 'https://kinopoiskapiunofficial.tech/images/posters/kp/42644.jpg', 'posterUrlPreview': 'https://kinopoiskapiunofficial.tech/images/posters/kp_small/42644.jpg', 'countries': [{'country': 'СССР'}], 'genres': [{'genre': 'драма'}, {'genre': 'мелодрама'}], 'duration': 99, 'premiereRu': '2022-08-11'}, {'kinopoiskId': 957643, 'nameRu': 'Счастье быть одной', 'nameEn': 'Assolo', 'year': 2016, 'posterUrl': 'https://kinopoiskapiunofficial.tech/images/posters/kp/957643.jpg', 'posterUrlPreview': 'https://kinopoiskapiunofficial.tech/images/posters/kp_small/957643.jpg', 'countries': [{'country': 'Италия'}], 'genres': [{'genre': 'комедия'}, {'genre': 'мелодрама'}], 'duration': 97, 'premiereRu': '2022-08-11'}, {'kinopoiskId': 1446032, 'nameRu': 'Дитя тьмы: Первая жертва', 'nameEn': 'Orphan: First Kill', 'year': 2021, 'posterUrl': 'https://kinopoiskapiunofficial.tech/images/posters/kp/1446032.jpg', 'posterUrlPreview': 'https://kinopoiskapiunofficial.tech/images/posters/kp_small/1446032.jpg', 'countries': [{'country': 'США'}, {'country': 'Канада'}], 'genres': [{'genre': 'триллер'}, {'genre': 'драма'}, {'genre': 'криминал'}], 'duration': 98, 'premiereRu': '2022-08-11'}, {'kinopoiskId': 1256273, 'nameRu': 'Архипелаг', 'nameEn': '', 'year': 2020, 'posterUrl': 'https://kinopoiskapiunofficial.tech/images/posters/kp/1256273.jpg', 'posterUrlPreview': 'https://kinopoiskapiunofficial.tech/images/posters/kp_small/1256273.jpg', 'countries': [{'country': 'Россия'}], 'genres': [{'genre': 'драма'}, {'genre': 'мелодрама'}], 'duration': 100, 'premiereRu': '2022-08-11'}, {'kinopoiskId': 4309991, 'nameRu': 'Форсаж. Китайский дрифт', 'nameEn': 'Chi zha feng yun', 'year': 2021, 'posterUrl': 'https://kinopoiskapiunofficial.tech/images/posters/kp/4309991.jpg', 'posterUrlPreview': 'https://kinopoiskapiunofficial.tech/images/posters/kp_small/4309991.jpg', 'countries': [{'country': 'Тайвань'}], 'genres': [{'genre': 'спорт'}, {'genre': 'драма'}], 'duration': 105, 'premiereRu': '2022-08-11'}, {'kinopoiskId': 4517052, 'nameRu': 'Легенды Орлёнка', 'nameEn': '', 'year': 2021, 'posterUrl': 'https://kinopoiskapiunofficial.tech/images/posters/kp/4517052.jpg', 'posterUrlPreview': 'https://kinopoiskapiunofficial.tech/images/posters/kp_small/4517052.jpg', 'countries': [{'country': 'Россия'}], 'genres': [{'genre': 'комедия'}, {'genre': 'семейный'}, {'genre': 'фэнтези'}], 'duration': 89, 'premiereRu': '2022-08-11'}, {'kinopoiskId': 4401506, 'nameRu': 'Великий «Юнайтед»', 'nameEn': 'The United Way', 'year': 2021, 'posterUrl': 'https://kinopoiskapiunofficial.tech/images/posters/kp/4401506.jpg', 'posterUrlPreview': 'https://kinopoiskapiunofficial.tech/images/posters/kp_small/4401506.jpg', 'countries': [{'country': 'Великобритания'}], 'genres': [{'genre': 'документальный'}, {'genre': 'история'}, {'genre': 'спорт'}], 'duration': 90, 'premiereRu': '2022-08-11'}, {'kinopoiskId': 4929765, 'nameRu': 'История кино: Новое поколение', 'nameEn': 'The Story of Film: A New Generation', 'year': 2021, 'posterUrl': 'https://kinopoiskapiunofficial.tech/images/posters/kp/4929765.jpg', 'posterUrlPreview': 'https://kinopoiskapiunofficial.tech/images/posters/kp_small/4929765.jpg', 'countries': [{'country': 'Великобритания'}], 'genres': [{'genre': 'документальный'}], 'duration': 160, 'premiereRu': '2022-08-11'}, {'kinopoiskId': 5065817, 'nameRu': 'МУЛЬТ в кино. Выпуск №146. Ребята, давайте смотреть дружно', 'nameEn': '', 'year': 2022, 'posterUrl': 'https://kinopoiskapiunofficial.tech/images/posters/kp/5065817.jpg', 'posterUrlPreview': 'https://kinopoiskapiunofficial.tech/images/posters/kp_small/5065817.jpg', 'countries': [{'country': 'Россия'}], 'genres': [{'genre': 'детский'}, {'genre': 'мультфильм'}], 'duration': 41, 'premiereRu': '2022-08-13'}, {'kinopoiskId': 432550, 'nameRu': 'Неудержимые', 'nameEn': 'The Expendables', 'year': 2010, 'posterUrl': 'https://kinopoiskapiunofficial.tech/images/posters/kp/432550.jpg', 'posterUrlPreview': 'https://kinopoiskapiunofficial.tech/images/posters/kp_small/432550.jpg', 'countries': [{'country': 'США'}, {'country': 'Болгария'}, {'country': 'Испания'}], 'genres': [{'genre': 'боевик'}, {'genre': 'приключения'}, {'genre': 'триллер'}], 'duration': 103, 'premiereRu': '2022-08-18'}, {'kinopoiskId': 571288, 'nameRu': 'Неудержимые 2', 'nameEn': 'The Expendables 2', 'year': 2012, 'posterUrl': 'https://kinopoiskapiunofficial.tech/images/posters/kp/571288.jpg', 'posterUrlPreview': 'https://kinopoiskapiunofficial.tech/images/posters/kp_small/571288.jpg', 'countries': [{'country': 'США'}, {'country': 'Германия'}, {'country': 'Китай'}], 'genres': [{'genre': 'боевик'}, {'genre': 'триллер'}, {'genre': 'приключения'}], 'duration': 103, 'premiereRu': '2022-08-18'}, {'kinopoiskId': 696813, 'nameRu': 'Неудержимые 3', 'nameEn': 'The Expendables 3', 'year': 2014, 'posterUrl': 'https://kinopoiskapiunofficial.tech/images/posters/kp/696813.jpg', 'posterUrlPreview': 'https://kinopoiskapiunofficial.tech/images/posters/kp_small/696813.jpg', 'countries': [{'country': 'Франция'}, {'country': 'Германия'}, {'country': 'Болгария'}], 'genres': [{'genre': 'боевик'}, {'genre': 'триллер'}, {'genre': 'приключения'}], 'duration': 126, 'premiereRu': '2022-08-18'}, {'kinopoiskId': 818981, 'nameRu': 'Реальные упыри', 'nameEn': 'What We Do in the Shadows', 'year': 2014, 'posterUrl': 'https://kinopoiskapiunofficial.tech/images/posters/kp/818981.jpg', 'posterUrlPreview': 'https://kinopoiskapiunofficial.tech/images/posters/kp_small/818981.jpg', 'countries': [{'country': 'Новая Зеландия'}], 'genres': [{'genre': 'комедия'}, {'genre': 'ужасы'}], 'duration': 85, 'premiereRu': '2022-08-18'}, {'kinopoiskId': 41047, 'nameRu': 'Ширли-мырли', 'nameEn': '', 'year': 1995, 'posterUrl': 'https://kinopoiskapiunofficial.tech/images/posters/kp/41047.jpg', 'posterUrlPreview': 'https://kinopoiskapiunofficial.tech/images/posters/kp_small/41047.jpg', 'countries': [{'country': 'Россия'}], 'genres': [{'genre': 'комедия'}], 'duration': 143, 'premiereRu': '2022-08-18'}, {'kinopoiskId': 814482, 'nameRu': 'Венецианские львы', 'nameEn': 'Leoni', 'year': 2015, 'posterUrl': 'https://kinopoiskapiunofficial.tech/images/posters/kp/814482.jpg', 'posterUrlPreview': 'https://kinopoiskapiunofficial.tech/images/posters/kp_small/814482.jpg', 'countries': [{'country': 'Италия'}], 'genres': [{'genre': 'комедия'}], 'duration': 90, 'premiereRu': '2022-08-18'}, {'kinopoiskId': 1168884, 'nameRu': 'Проклятый остров', 'nameEn': 'Patients of a Saint', 'year': 2020, 'posterUrl': 'https://kinopoiskapiunofficial.tech/images/posters/kp/1168884.jpg', 'posterUrlPreview': 'https://kinopoiskapiunofficial.tech/images/posters/kp_small/1168884.jpg', 'countries': [{'country': 'Великобритания'}], 'genres': [{'genre': 'ужасы'}], 'duration': 106, 'premiereRu': '2022-08-18'}, {'kinopoiskId': 1411649, 'nameRu': 'Челюсти. Столкновение', 'nameEn': 'Shark Bait', 'year': 2021, 'posterUrl': 'https://kinopoiskapiunofficial.tech/images/posters/kp/1411649.jpg', 'posterUrlPreview': 'https://kinopoiskapiunofficial.tech/images/posters/kp_small/1411649.jpg', 'countries': [{'country': 'Великобритания'}], 'genres': [{'genre': 'триллер'}, {'genre': 'ужасы'}], 'duration': 86, 'premiereRu': '2022-08-18'}, {'kinopoiskId': 1395858, 'nameRu': 'Позывной «Барон»', 'nameEn': '', 'year': 2020, 'posterUrl': 'https://kinopoiskapiunofficial.tech/images/posters/kp/1395858.jpg', 'posterUrlPreview': 'https://kinopoiskapiunofficial.tech/images/posters/kp_small/1395858.jpg', 'countries': [{'country': 'Россия'}, {'country': 'Узбекистан'}], 'genres': [{'genre': 'боевик'}, {'genre': 'криминал'}, {'genre': 'драма'}], 'duration': 117, 'premiereRu': '2022-08-18'}, {'kinopoiskId': 1334311, 'nameRu': 'Мия и я: Легенда Сентопии', 'nameEn': 'The Hero of Centopia', 'year': 2022, 'posterUrl': 'https://kinopoiskapiunofficial.tech/images/posters/kp/1334311.jpg', 'posterUrlPreview': 'https://kinopoiskapiunofficial.tech/images/posters/kp_small/1334311.jpg', 'countries': [{'country': 'Германия'}, {'country': 'Австралия'}, {'country': 'Бельгия'}], 'genres': [{'genre': 'мультфильм'}, {'genre': 'фэнтези'}, {'genre': 'приключения'}], 'duration': 82, 'premiereRu': '2022-08-18'}, {'kinopoiskId': 5034524, 'nameRu': 'Ночной режим. Фильм', 'nameEn': '', 'year': 2022, 'posterUrl': 'https://kinopoiskapiunofficial.tech/images/posters/kp/5034524.jpg', 'posterUrlPreview': 'https://kinopoiskapiunofficial.tech/images/posters/kp_small/5034524.jpg', 'countries': [{'country': 'Россия'}], 'genres': [{'genre': 'триллер'}, {'genre': 'фантастика'}], 'duration': 122, 'premiereRu': '2022-08-18'}, {'kinopoiskId': 1435722, 'nameRu': 'Развод в стиле кунг-фу', 'nameEn': 'Kung Fu Zohra', 'year': 2022, 'posterUrl': 'https://kinopoiskapiunofficial.tech/images/posters/kp/1435722.jpg', 'posterUrlPreview': 'https://kinopoiskapiunofficial.tech/images/posters/kp_small/1435722.jpg', 'countries': [{'country': 'Франция'}, {'country': 'Бельгия'}], 'genres': [{'genre': 'боевик'}, {'genre': 'драма'}], 'duration': 100, 'premiereRu': '2022-08-18'}, {'kinopoiskId': 4862812, 'nameRu': 'Икар', 'nameEn': 'Icare', 'year': 2022, 'posterUrl': 'https://kinopoiskapiunofficial.tech/images/posters/kp/4862812.jpg', 'posterUrlPreview': 'https://kinopoiskapiunofficial.tech/images/posters/kp_small/4862812.jpg', 'countries': [{'country': 'Люксембург'}, {'country': 'Франция'}, {'country': 'Бельгия'}], 'genres': [{'genre': 'мультфильм'}, {'genre': 'приключения'}, {'genre': 'семейный'}], 'duration': 76, 'premiereRu': '2022-08-18'}, {'kinopoiskId': 5041485, 'nameRu': 'Слуга государев. Режиссерская версия', 'nameEn': '', 'year': 2022, 'posterUrl': 'https://kinopoiskapiunofficial.tech/images/posters/kp/5041485.jpg', 'posterUrlPreview': 'https://kinopoiskapiunofficial.tech/images/posters/kp_small/5041485.jpg', 'countries': [{'country': 'Россия'}], 'genres': [{'genre': 'боевик'}, {'genre': 'приключения'}, {'genre': 'военный'}], 'duration': 119, 'premiereRu': '2022-08-18'}, {'kinopoiskId': 5066770, 'nameRu': 'СоюзКиноМульт. Выпуск №2: «Простоквашино» и все-все-все»', 'nameEn': '', 'year': 2022, 'posterUrl': 'https://kinopoiskapiunofficial.tech/images/posters/kp/5066770.jpg', 'posterUrlPreview': 'https://kinopoiskapiunofficial.tech/images/posters/kp_small/5066770.jpg', 'countries': [{'country': 'Россия'}], 'genres': [{'genre': 'мультфильм'}, {'genre': 'детский'}, {'genre': 'семейный'}], 'duration': 47, 'premiereRu': '2022-08-18'}, {'kinopoiskId': 5066711, 'nameRu': 'Маленький принц', 'nameEn': '', 'year': 2022, 'posterUrl': 'https://kinopoiskapiunofficial.tech/images/posters/kp/5066711.jpg', 'posterUrlPreview': 'https://kinopoiskapiunofficial.tech/images/posters/kp_small/5066711.jpg', 'countries': [{'country': 'Россия'}], 'genres': [{'genre': 'фэнтези'}, {'genre': 'семейный'}, {'genre': 'короткометражка'}], 'duration': 32, 'premiereRu': '2022-08-18'}, {'kinopoiskId': 3670, 'nameRu': 'The Doors', 'nameEn': 'The Doors', 'year': 1991, 'posterUrl': 'https://kinopoiskapiunofficial.tech/images/posters/kp/3670.jpg', 'posterUrlPreview': 'https://kinopoiskapiunofficial.tech/images/posters/kp_small/3670.jpg', 'countries': [{'country': 'США'}, {'country': 'Франция'}], 'genres': [{'genre': 'драма'}, {'genre': 'биография'}, {'genre': 'музыка'}], 'duration': 140, 'premiereRu': '2022-08-25'}, {'kinopoiskId': 1210186, 'nameRu': 'Первая корова', 'nameEn': 'First Cow', 'year': 2019, 'posterUrl': 'https://kinopoiskapiunofficial.tech/images/posters/kp/1210186.jpg', 'posterUrlPreview': 'https://kinopoiskapiunofficial.tech/images/posters/kp_small/1210186.jpg', 'countries': [{'country': 'США'}], 'genres': [{'genre': 'драма'}, {'genre': 'вестерн'}], 'duration': 122, 'premiereRu': '2022-08-25'}, {'kinopoiskId': 1015802, 'nameRu': 'Между нами, девочками', 'nameEn': 'Qualcosa di nuovo', 'year': 2016, 'posterUrl': 'https://kinopoiskapiunofficial.tech/images/posters/kp/1015802.jpg', 'posterUrlPreview': 'https://kinopoiskapiunofficial.tech/images/posters/kp_small/1015802.jpg', 'countries': [{'country': 'Италия'}], 'genres': [{'genre': 'комедия'}], 'duration': 93, 'premiereRu': '2022-08-25'}, {'kinopoiskId': 4517646, 'nameRu': 'Мы — монстры 2', 'nameEn': 'Monster Family 2', 'year': 2021, 'posterUrl': 'https://kinopoiskapiunofficial.tech/images/posters/kp/4517646.jpg', 'posterUrlPreview': 'https://kinopoiskapiunofficial.tech/images/posters/kp_small/4517646.jpg', 'countries': [{'country': 'Германия'}, {'country': 'Великобритания'}], 'genres': [{'genre': 'мультфильм'}, {'genre': 'фэнтези'}, {'genre': 'комедия'}], 'duration': 90, 'premiereRu': '2022-08-25'}, {'kinopoiskId': 1411988, 'nameRu': 'После. Долго и счастливо', 'nameEn': 'After Ever Happy', 'year': 2022, 'posterUrl': 'https://kinopoiskapiunofficial.tech/images/posters/kp/1411988.jpg', 'posterUrlPreview': 'https://kinopoiskapiunofficial.tech/images/posters/kp_small/1411988.jpg', 'countries': [{'country': 'США'}], 'genres': [{'genre': 'мелодрама'}, {'genre': 'драма'}], 'duration': 95, 'premiereRu': '2022-08-25'}, {'kinopoiskId': 1325605, 'nameRu': 'Друг на продажу', 'nameEn': '', 'year': 2021, 'posterUrl': 'https://kinopoiskapiunofficial.tech/images/posters/kp/1325605.jpg', 'posterUrlPreview': 'https://kinopoiskapiunofficial.tech/images/posters/kp_small/1325605.jpg', 'countries': [{'country': 'Россия'}], 'genres': [{'genre': 'комедия'}], 'duration': 102, 'premiereRu': '2022-08-25'}, {'kinopoiskId': 4518842, 'nameRu': 'Барбоскины Team', 'nameEn': '', 'year': 2022, 'posterUrl': 'https://kinopoiskapiunofficial.tech/images/posters/kp/4518842.jpg', 'posterUrlPreview': 'https://kinopoiskapiunofficial.tech/images/posters/kp_small/4518842.jpg', 'countries': [{'country': 'Россия'}], 'genres': [{'genre': 'мультфильм'}, {'genre': 'мюзикл'}], 'duration': 75, 'premiereRu': '2022-08-25'}, {'kinopoiskId': 4438994, 'nameRu': 'Идеальное убийство', 'nameEn': 'The Good Neighbor', 'year': 2022, 'posterUrl': 'https://kinopoiskapiunofficial.tech/images/posters/kp/4438994.jpg', 'posterUrlPreview': 'https://kinopoiskapiunofficial.tech/images/posters/kp_small/4438994.jpg', 'countries': [{'country': 'США'}, {'country': 'Латвия'}], 'genres': [{'genre': 'триллер'}, {'genre': 'детектив'}], 'duration': 106, 'premiereRu': '2022-08-25'}, {'kinopoiskId': 4396078, 'nameRu': 'Неубиваемый', 'nameEn': 'Bullet Proof', 'year': 2022, 'posterUrl': 'https://kinopoiskapiunofficial.tech/images/posters/kp/4396078.jpg', 'posterUrlPreview': 'https://kinopoiskapiunofficial.tech/images/posters/kp_small/4396078.jpg', 'countries': [{'country': 'Канада'}], 'genres': [{'genre': 'боевик'}], 'duration': 81, 'premiereRu': '2022-08-25'}, {'kinopoiskId': 4947225, 'nameRu': 'Гостья из космоса', 'nameEn': 'Lille Allan - den menneskelige antenne', 'year': 2022, 'posterUrl': 'https://kinopoiskapiunofficial.tech/images/posters/kp/4947225.jpg', 'posterUrlPreview': 'https://kinopoiskapiunofficial.tech/images/posters/kp_small/4947225.jpg', 'countries': [{'country': 'Дания'}], 'genres': [{'genre': 'мультфильм'}, {'genre': 'приключения'}, {'genre': 'семейный'}], 'duration': 85, 'premiereRu': '2022-08-25'}, {'kinopoiskId': 4522328, 'nameRu': 'Лена и справедливость', 'nameEn': '', 'year': 2021, 'posterUrl': 'https://kinopoiskapiunofficial.tech/images/posters/kp/4522328.jpg', 'posterUrlPreview': 'https://kinopoiskapiunofficial.tech/images/posters/kp_small/4522328.jpg', 'countries': [{'country': 'Россия'}], 'genres': [{'genre': 'комедия'}], 'duration': 90, 'premiereRu': '2022-08-25'}, {'kinopoiskId': 4720113, 'nameRu': 'Все ненавидят Йохана', 'nameEn': 'Alle hater Johan', 'year': 2022, 'posterUrl': 'https://kinopoiskapiunofficial.tech/images/posters/kp/4720113.jpg', 'posterUrlPreview': 'https://kinopoiskapiunofficial.tech/images/posters/kp_small/4720113.jpg', 'countries': [{'country': 'Норвегия'}], 'genres': [{'genre': 'комедия'}], 'duration': 93, 'premiereRu': '2022-08-25'}, {'kinopoiskId': 4512151, 'nameRu': 'Залёт', 'nameEn': 'Le test', 'year': 2021, 'posterUrl': 'https://kinopoiskapiunofficial.tech/images/posters/kp/4512151.jpg', 'posterUrlPreview': 'https://kinopoiskapiunofficial.tech/images/posters/kp_small/4512151.jpg', 'countries': [{'country': 'Франция'}], 'genres': [{'genre': 'комедия'}], 'duration': 85, 'premiereRu': '2022-08-25'}, {'kinopoiskId': 1228602, 'nameRu': 'Кобра', 'nameEn': 'Cobra', 'year': 2022, 'posterUrl': 'https://kinopoiskapiunofficial.tech/images/posters/kp/1228602.jpg', 'posterUrlPreview': 'https://kinopoiskapiunofficial.tech/images/posters/kp_small/1228602.jpg', 'countries': [{'country': 'Индия'}], 'genres': [{'genre': 'боевик'}, {'genre': 'триллер'}, {'genre': 'криминал'}], 'duration': 183, 'premiereRu': '2022-08-31'}]}\n"
          ]
        }
      ]
    },
    {
      "cell_type": "markdown",
      "source": [
        "Создадим датафрейм (таблицу) из полученного ответа:"
      ],
      "metadata": {
        "id": "bwfsbP_sxGM4"
      }
    },
    {
      "cell_type": "code",
      "source": [
        "df = pd.json_normalize(result['items'])\n",
        "df.sample(2)"
      ],
      "metadata": {
        "colab": {
          "base_uri": "https://localhost:8080/",
          "height": 277
        },
        "id": "OqNSmSLcvpUU",
        "outputId": "dbad65db-a568-445c-acd4-2dfc87a0d47f"
      },
      "execution_count": 10,
      "outputs": [
        {
          "output_type": "execute_result",
          "data": {
            "text/plain": [
              "    kinopoiskId                                 nameRu            nameEn  \\\n",
              "17      4309991                Форсаж. Китайский дрифт  Chi zha feng yun   \n",
              "5       1332073  Проклятие матери: Прятки на выживание          Motherly   \n",
              "\n",
              "    year                                          posterUrl  \\\n",
              "17  2021  https://kinopoiskapiunofficial.tech/images/pos...   \n",
              "5   2021  https://kinopoiskapiunofficial.tech/images/pos...   \n",
              "\n",
              "                                     posterUrlPreview  \\\n",
              "17  https://kinopoiskapiunofficial.tech/images/pos...   \n",
              "5   https://kinopoiskapiunofficial.tech/images/pos...   \n",
              "\n",
              "                   countries                                      genres  \\\n",
              "17  [{'country': 'Тайвань'}]    [{'genre': 'спорт'}, {'genre': 'драма'}]   \n",
              "5    [{'country': 'Канада'}]  [{'genre': 'ужасы'}, {'genre': 'триллер'}]   \n",
              "\n",
              "    duration  premiereRu  \n",
              "17       105  2022-08-11  \n",
              "5         80  2022-08-04  "
            ],
            "text/html": [
              "\n",
              "  <div id=\"df-211c03bf-94dc-4c98-b087-3c08aa8fce6a\">\n",
              "    <div class=\"colab-df-container\">\n",
              "      <div>\n",
              "<style scoped>\n",
              "    .dataframe tbody tr th:only-of-type {\n",
              "        vertical-align: middle;\n",
              "    }\n",
              "\n",
              "    .dataframe tbody tr th {\n",
              "        vertical-align: top;\n",
              "    }\n",
              "\n",
              "    .dataframe thead th {\n",
              "        text-align: right;\n",
              "    }\n",
              "</style>\n",
              "<table border=\"1\" class=\"dataframe\">\n",
              "  <thead>\n",
              "    <tr style=\"text-align: right;\">\n",
              "      <th></th>\n",
              "      <th>kinopoiskId</th>\n",
              "      <th>nameRu</th>\n",
              "      <th>nameEn</th>\n",
              "      <th>year</th>\n",
              "      <th>posterUrl</th>\n",
              "      <th>posterUrlPreview</th>\n",
              "      <th>countries</th>\n",
              "      <th>genres</th>\n",
              "      <th>duration</th>\n",
              "      <th>premiereRu</th>\n",
              "    </tr>\n",
              "  </thead>\n",
              "  <tbody>\n",
              "    <tr>\n",
              "      <th>17</th>\n",
              "      <td>4309991</td>\n",
              "      <td>Форсаж. Китайский дрифт</td>\n",
              "      <td>Chi zha feng yun</td>\n",
              "      <td>2021</td>\n",
              "      <td>https://kinopoiskapiunofficial.tech/images/pos...</td>\n",
              "      <td>https://kinopoiskapiunofficial.tech/images/pos...</td>\n",
              "      <td>[{'country': 'Тайвань'}]</td>\n",
              "      <td>[{'genre': 'спорт'}, {'genre': 'драма'}]</td>\n",
              "      <td>105</td>\n",
              "      <td>2022-08-11</td>\n",
              "    </tr>\n",
              "    <tr>\n",
              "      <th>5</th>\n",
              "      <td>1332073</td>\n",
              "      <td>Проклятие матери: Прятки на выживание</td>\n",
              "      <td>Motherly</td>\n",
              "      <td>2021</td>\n",
              "      <td>https://kinopoiskapiunofficial.tech/images/pos...</td>\n",
              "      <td>https://kinopoiskapiunofficial.tech/images/pos...</td>\n",
              "      <td>[{'country': 'Канада'}]</td>\n",
              "      <td>[{'genre': 'ужасы'}, {'genre': 'триллер'}]</td>\n",
              "      <td>80</td>\n",
              "      <td>2022-08-04</td>\n",
              "    </tr>\n",
              "  </tbody>\n",
              "</table>\n",
              "</div>\n",
              "      <button class=\"colab-df-convert\" onclick=\"convertToInteractive('df-211c03bf-94dc-4c98-b087-3c08aa8fce6a')\"\n",
              "              title=\"Convert this dataframe to an interactive table.\"\n",
              "              style=\"display:none;\">\n",
              "        \n",
              "  <svg xmlns=\"http://www.w3.org/2000/svg\" height=\"24px\"viewBox=\"0 0 24 24\"\n",
              "       width=\"24px\">\n",
              "    <path d=\"M0 0h24v24H0V0z\" fill=\"none\"/>\n",
              "    <path d=\"M18.56 5.44l.94 2.06.94-2.06 2.06-.94-2.06-.94-.94-2.06-.94 2.06-2.06.94zm-11 1L8.5 8.5l.94-2.06 2.06-.94-2.06-.94L8.5 2.5l-.94 2.06-2.06.94zm10 10l.94 2.06.94-2.06 2.06-.94-2.06-.94-.94-2.06-.94 2.06-2.06.94z\"/><path d=\"M17.41 7.96l-1.37-1.37c-.4-.4-.92-.59-1.43-.59-.52 0-1.04.2-1.43.59L10.3 9.45l-7.72 7.72c-.78.78-.78 2.05 0 2.83L4 21.41c.39.39.9.59 1.41.59.51 0 1.02-.2 1.41-.59l7.78-7.78 2.81-2.81c.8-.78.8-2.07 0-2.86zM5.41 20L4 18.59l7.72-7.72 1.47 1.35L5.41 20z\"/>\n",
              "  </svg>\n",
              "      </button>\n",
              "      \n",
              "  <style>\n",
              "    .colab-df-container {\n",
              "      display:flex;\n",
              "      flex-wrap:wrap;\n",
              "      gap: 12px;\n",
              "    }\n",
              "\n",
              "    .colab-df-convert {\n",
              "      background-color: #E8F0FE;\n",
              "      border: none;\n",
              "      border-radius: 50%;\n",
              "      cursor: pointer;\n",
              "      display: none;\n",
              "      fill: #1967D2;\n",
              "      height: 32px;\n",
              "      padding: 0 0 0 0;\n",
              "      width: 32px;\n",
              "    }\n",
              "\n",
              "    .colab-df-convert:hover {\n",
              "      background-color: #E2EBFA;\n",
              "      box-shadow: 0px 1px 2px rgba(60, 64, 67, 0.3), 0px 1px 3px 1px rgba(60, 64, 67, 0.15);\n",
              "      fill: #174EA6;\n",
              "    }\n",
              "\n",
              "    [theme=dark] .colab-df-convert {\n",
              "      background-color: #3B4455;\n",
              "      fill: #D2E3FC;\n",
              "    }\n",
              "\n",
              "    [theme=dark] .colab-df-convert:hover {\n",
              "      background-color: #434B5C;\n",
              "      box-shadow: 0px 1px 3px 1px rgba(0, 0, 0, 0.15);\n",
              "      filter: drop-shadow(0px 1px 2px rgba(0, 0, 0, 0.3));\n",
              "      fill: #FFFFFF;\n",
              "    }\n",
              "  </style>\n",
              "\n",
              "      <script>\n",
              "        const buttonEl =\n",
              "          document.querySelector('#df-211c03bf-94dc-4c98-b087-3c08aa8fce6a button.colab-df-convert');\n",
              "        buttonEl.style.display =\n",
              "          google.colab.kernel.accessAllowed ? 'block' : 'none';\n",
              "\n",
              "        async function convertToInteractive(key) {\n",
              "          const element = document.querySelector('#df-211c03bf-94dc-4c98-b087-3c08aa8fce6a');\n",
              "          const dataTable =\n",
              "            await google.colab.kernel.invokeFunction('convertToInteractive',\n",
              "                                                     [key], {});\n",
              "          if (!dataTable) return;\n",
              "\n",
              "          const docLinkHtml = 'Like what you see? Visit the ' +\n",
              "            '<a target=\"_blank\" href=https://colab.research.google.com/notebooks/data_table.ipynb>data table notebook</a>'\n",
              "            + ' to learn more about interactive tables.';\n",
              "          element.innerHTML = '';\n",
              "          dataTable['output_type'] = 'display_data';\n",
              "          await google.colab.output.renderOutput(dataTable, element);\n",
              "          const docLink = document.createElement('div');\n",
              "          docLink.innerHTML = docLinkHtml;\n",
              "          element.appendChild(docLink);\n",
              "        }\n",
              "      </script>\n",
              "    </div>\n",
              "  </div>\n",
              "  "
            ]
          },
          "metadata": {},
          "execution_count": 10
        }
      ]
    },
    {
      "cell_type": "markdown",
      "source": [
        "Оставим только несколько колонок:"
      ],
      "metadata": {
        "id": "McWKwYDhxPh8"
      }
    },
    {
      "cell_type": "code",
      "source": [
        "df = df.drop(columns=['posterUrl', 'posterUrlPreview','countries','genres','duration','premiereRu']) "
      ],
      "metadata": {
        "id": "-Eq8u862XmGD"
      },
      "execution_count": 11,
      "outputs": []
    },
    {
      "cell_type": "markdown",
      "source": [
        "Добавим индексацию по полю \"kinopoiskId\":"
      ],
      "metadata": {
        "id": "0ZqbGm3BxX3L"
      }
    },
    {
      "cell_type": "code",
      "source": [
        "df = df.set_index('kinopoiskId')\n",
        "df.sample(2)"
      ],
      "metadata": {
        "colab": {
          "base_uri": "https://localhost:8080/",
          "height": 142
        },
        "id": "wRm0z3A2qYDP",
        "outputId": "d6f00624-e04e-4cf9-88bb-d8cdb6e2cab1"
      },
      "execution_count": 12,
      "outputs": [
        {
          "output_type": "execute_result",
          "data": {
            "text/plain": [
              "                       nameRu         nameEn  year\n",
              "kinopoiskId                                       \n",
              "5066711       Маленький принц                 2022\n",
              "1111403      Семейка монстров  Petit vampire  2020"
            ],
            "text/html": [
              "\n",
              "  <div id=\"df-9ad640f5-1b9c-4f06-8ee4-dc0acdd5d398\">\n",
              "    <div class=\"colab-df-container\">\n",
              "      <div>\n",
              "<style scoped>\n",
              "    .dataframe tbody tr th:only-of-type {\n",
              "        vertical-align: middle;\n",
              "    }\n",
              "\n",
              "    .dataframe tbody tr th {\n",
              "        vertical-align: top;\n",
              "    }\n",
              "\n",
              "    .dataframe thead th {\n",
              "        text-align: right;\n",
              "    }\n",
              "</style>\n",
              "<table border=\"1\" class=\"dataframe\">\n",
              "  <thead>\n",
              "    <tr style=\"text-align: right;\">\n",
              "      <th></th>\n",
              "      <th>nameRu</th>\n",
              "      <th>nameEn</th>\n",
              "      <th>year</th>\n",
              "    </tr>\n",
              "    <tr>\n",
              "      <th>kinopoiskId</th>\n",
              "      <th></th>\n",
              "      <th></th>\n",
              "      <th></th>\n",
              "    </tr>\n",
              "  </thead>\n",
              "  <tbody>\n",
              "    <tr>\n",
              "      <th>5066711</th>\n",
              "      <td>Маленький принц</td>\n",
              "      <td></td>\n",
              "      <td>2022</td>\n",
              "    </tr>\n",
              "    <tr>\n",
              "      <th>1111403</th>\n",
              "      <td>Семейка монстров</td>\n",
              "      <td>Petit vampire</td>\n",
              "      <td>2020</td>\n",
              "    </tr>\n",
              "  </tbody>\n",
              "</table>\n",
              "</div>\n",
              "      <button class=\"colab-df-convert\" onclick=\"convertToInteractive('df-9ad640f5-1b9c-4f06-8ee4-dc0acdd5d398')\"\n",
              "              title=\"Convert this dataframe to an interactive table.\"\n",
              "              style=\"display:none;\">\n",
              "        \n",
              "  <svg xmlns=\"http://www.w3.org/2000/svg\" height=\"24px\"viewBox=\"0 0 24 24\"\n",
              "       width=\"24px\">\n",
              "    <path d=\"M0 0h24v24H0V0z\" fill=\"none\"/>\n",
              "    <path d=\"M18.56 5.44l.94 2.06.94-2.06 2.06-.94-2.06-.94-.94-2.06-.94 2.06-2.06.94zm-11 1L8.5 8.5l.94-2.06 2.06-.94-2.06-.94L8.5 2.5l-.94 2.06-2.06.94zm10 10l.94 2.06.94-2.06 2.06-.94-2.06-.94-.94-2.06-.94 2.06-2.06.94z\"/><path d=\"M17.41 7.96l-1.37-1.37c-.4-.4-.92-.59-1.43-.59-.52 0-1.04.2-1.43.59L10.3 9.45l-7.72 7.72c-.78.78-.78 2.05 0 2.83L4 21.41c.39.39.9.59 1.41.59.51 0 1.02-.2 1.41-.59l7.78-7.78 2.81-2.81c.8-.78.8-2.07 0-2.86zM5.41 20L4 18.59l7.72-7.72 1.47 1.35L5.41 20z\"/>\n",
              "  </svg>\n",
              "      </button>\n",
              "      \n",
              "  <style>\n",
              "    .colab-df-container {\n",
              "      display:flex;\n",
              "      flex-wrap:wrap;\n",
              "      gap: 12px;\n",
              "    }\n",
              "\n",
              "    .colab-df-convert {\n",
              "      background-color: #E8F0FE;\n",
              "      border: none;\n",
              "      border-radius: 50%;\n",
              "      cursor: pointer;\n",
              "      display: none;\n",
              "      fill: #1967D2;\n",
              "      height: 32px;\n",
              "      padding: 0 0 0 0;\n",
              "      width: 32px;\n",
              "    }\n",
              "\n",
              "    .colab-df-convert:hover {\n",
              "      background-color: #E2EBFA;\n",
              "      box-shadow: 0px 1px 2px rgba(60, 64, 67, 0.3), 0px 1px 3px 1px rgba(60, 64, 67, 0.15);\n",
              "      fill: #174EA6;\n",
              "    }\n",
              "\n",
              "    [theme=dark] .colab-df-convert {\n",
              "      background-color: #3B4455;\n",
              "      fill: #D2E3FC;\n",
              "    }\n",
              "\n",
              "    [theme=dark] .colab-df-convert:hover {\n",
              "      background-color: #434B5C;\n",
              "      box-shadow: 0px 1px 3px 1px rgba(0, 0, 0, 0.15);\n",
              "      filter: drop-shadow(0px 1px 2px rgba(0, 0, 0, 0.3));\n",
              "      fill: #FFFFFF;\n",
              "    }\n",
              "  </style>\n",
              "\n",
              "      <script>\n",
              "        const buttonEl =\n",
              "          document.querySelector('#df-9ad640f5-1b9c-4f06-8ee4-dc0acdd5d398 button.colab-df-convert');\n",
              "        buttonEl.style.display =\n",
              "          google.colab.kernel.accessAllowed ? 'block' : 'none';\n",
              "\n",
              "        async function convertToInteractive(key) {\n",
              "          const element = document.querySelector('#df-9ad640f5-1b9c-4f06-8ee4-dc0acdd5d398');\n",
              "          const dataTable =\n",
              "            await google.colab.kernel.invokeFunction('convertToInteractive',\n",
              "                                                     [key], {});\n",
              "          if (!dataTable) return;\n",
              "\n",
              "          const docLinkHtml = 'Like what you see? Visit the ' +\n",
              "            '<a target=\"_blank\" href=https://colab.research.google.com/notebooks/data_table.ipynb>data table notebook</a>'\n",
              "            + ' to learn more about interactive tables.';\n",
              "          element.innerHTML = '';\n",
              "          dataTable['output_type'] = 'display_data';\n",
              "          await google.colab.output.renderOutput(dataTable, element);\n",
              "          const docLink = document.createElement('div');\n",
              "          docLink.innerHTML = docLinkHtml;\n",
              "          element.appendChild(docLink);\n",
              "        }\n",
              "      </script>\n",
              "    </div>\n",
              "  </div>\n",
              "  "
            ]
          },
          "metadata": {},
          "execution_count": 12
        }
      ]
    },
    {
      "cell_type": "markdown",
      "source": [
        "А теперь добавим в наш датафрейм новую колонку, в которой для каждого фильма найдем рейтинг. Рейтинг будем получать с сайта https://www.kinopoisk.ru/ для каждого kinopoiskId (способ получения уже рассматривался ранее):"
      ],
      "metadata": {
        "id": "7pmA0YhYxr2z"
      }
    },
    {
      "cell_type": "code",
      "source": [
        "from tqdm.notebook import tqdm\n",
        "for i in tqdm(df.index):\n",
        "  url1 ='https://rating.kinopoisk.ru/' + str(i) + '.xml'\n",
        "  r1 = requests.get(url1)\n",
        "  rating = xmltodict.parse(r1.content)['rating']['kp_rating']['#text']\n",
        "  df.loc[i,['rating']] = rating\n",
        "df.head()"
      ],
      "metadata": {
        "colab": {
          "base_uri": "https://localhost:8080/",
          "height": 267,
          "referenced_widgets": [
            "d37f50facb6445259c4334319de3cd8e",
            "7e4f705a3e1f4ef594a67581fd87aac9",
            "e18502e10b4943c7ad379d10ed88f2f1",
            "695adf438b974ecc972c2645db1ac773",
            "0ab075aac8f94011ad60ff8225acd96f",
            "04191675e3ac4e5fbff6994266f9badd",
            "4ac87e2873c74fc7a3580b564ece20c3",
            "8e37d6f7c01c4d61993e12eb5600afac",
            "69d8bce3657e4a07a7c65aa6cac25398",
            "9631ddb8fc944cb0bbad6f7a8665d668",
            "1f54c5f8fb294226a6c2ce8dbd9c852f"
          ]
        },
        "id": "Grvn2UTSzDr5",
        "outputId": "12fb6a37-afb3-49db-dd3c-f63074d8081b"
      },
      "execution_count": 14,
      "outputs": [
        {
          "output_type": "display_data",
          "data": {
            "text/plain": [
              "  0%|          | 0/52 [00:00<?, ?it/s]"
            ],
            "application/vnd.jupyter.widget-view+json": {
              "version_major": 2,
              "version_minor": 0,
              "model_id": "d37f50facb6445259c4334319de3cd8e"
            }
          },
          "metadata": {}
        },
        {
          "output_type": "execute_result",
          "data": {
            "text/plain": [
              "                           nameRu             nameEn  year rating\n",
              "kinopoiskId                                                      \n",
              "1114973       Большое путешествие                     2019   6.23\n",
              "984204       Из Неаполя с любовью  Troppo napoletano  2016  6.498\n",
              "1111403          Семейка монстров      Petit vampire  2020  6.302\n",
              "4910311       Земля. Перезагрузка    Chong qi di qiu  2021   4.73\n",
              "4413227            Убойный монтаж              Coupé  2022  7.364"
            ],
            "text/html": [
              "\n",
              "  <div id=\"df-a1cc0f46-82e1-4df6-a1b3-27be7647c70a\">\n",
              "    <div class=\"colab-df-container\">\n",
              "      <div>\n",
              "<style scoped>\n",
              "    .dataframe tbody tr th:only-of-type {\n",
              "        vertical-align: middle;\n",
              "    }\n",
              "\n",
              "    .dataframe tbody tr th {\n",
              "        vertical-align: top;\n",
              "    }\n",
              "\n",
              "    .dataframe thead th {\n",
              "        text-align: right;\n",
              "    }\n",
              "</style>\n",
              "<table border=\"1\" class=\"dataframe\">\n",
              "  <thead>\n",
              "    <tr style=\"text-align: right;\">\n",
              "      <th></th>\n",
              "      <th>nameRu</th>\n",
              "      <th>nameEn</th>\n",
              "      <th>year</th>\n",
              "      <th>rating</th>\n",
              "    </tr>\n",
              "    <tr>\n",
              "      <th>kinopoiskId</th>\n",
              "      <th></th>\n",
              "      <th></th>\n",
              "      <th></th>\n",
              "      <th></th>\n",
              "    </tr>\n",
              "  </thead>\n",
              "  <tbody>\n",
              "    <tr>\n",
              "      <th>1114973</th>\n",
              "      <td>Большое путешествие</td>\n",
              "      <td></td>\n",
              "      <td>2019</td>\n",
              "      <td>6.23</td>\n",
              "    </tr>\n",
              "    <tr>\n",
              "      <th>984204</th>\n",
              "      <td>Из Неаполя с любовью</td>\n",
              "      <td>Troppo napoletano</td>\n",
              "      <td>2016</td>\n",
              "      <td>6.498</td>\n",
              "    </tr>\n",
              "    <tr>\n",
              "      <th>1111403</th>\n",
              "      <td>Семейка монстров</td>\n",
              "      <td>Petit vampire</td>\n",
              "      <td>2020</td>\n",
              "      <td>6.302</td>\n",
              "    </tr>\n",
              "    <tr>\n",
              "      <th>4910311</th>\n",
              "      <td>Земля. Перезагрузка</td>\n",
              "      <td>Chong qi di qiu</td>\n",
              "      <td>2021</td>\n",
              "      <td>4.73</td>\n",
              "    </tr>\n",
              "    <tr>\n",
              "      <th>4413227</th>\n",
              "      <td>Убойный монтаж</td>\n",
              "      <td>Coupé</td>\n",
              "      <td>2022</td>\n",
              "      <td>7.364</td>\n",
              "    </tr>\n",
              "  </tbody>\n",
              "</table>\n",
              "</div>\n",
              "      <button class=\"colab-df-convert\" onclick=\"convertToInteractive('df-a1cc0f46-82e1-4df6-a1b3-27be7647c70a')\"\n",
              "              title=\"Convert this dataframe to an interactive table.\"\n",
              "              style=\"display:none;\">\n",
              "        \n",
              "  <svg xmlns=\"http://www.w3.org/2000/svg\" height=\"24px\"viewBox=\"0 0 24 24\"\n",
              "       width=\"24px\">\n",
              "    <path d=\"M0 0h24v24H0V0z\" fill=\"none\"/>\n",
              "    <path d=\"M18.56 5.44l.94 2.06.94-2.06 2.06-.94-2.06-.94-.94-2.06-.94 2.06-2.06.94zm-11 1L8.5 8.5l.94-2.06 2.06-.94-2.06-.94L8.5 2.5l-.94 2.06-2.06.94zm10 10l.94 2.06.94-2.06 2.06-.94-2.06-.94-.94-2.06-.94 2.06-2.06.94z\"/><path d=\"M17.41 7.96l-1.37-1.37c-.4-.4-.92-.59-1.43-.59-.52 0-1.04.2-1.43.59L10.3 9.45l-7.72 7.72c-.78.78-.78 2.05 0 2.83L4 21.41c.39.39.9.59 1.41.59.51 0 1.02-.2 1.41-.59l7.78-7.78 2.81-2.81c.8-.78.8-2.07 0-2.86zM5.41 20L4 18.59l7.72-7.72 1.47 1.35L5.41 20z\"/>\n",
              "  </svg>\n",
              "      </button>\n",
              "      \n",
              "  <style>\n",
              "    .colab-df-container {\n",
              "      display:flex;\n",
              "      flex-wrap:wrap;\n",
              "      gap: 12px;\n",
              "    }\n",
              "\n",
              "    .colab-df-convert {\n",
              "      background-color: #E8F0FE;\n",
              "      border: none;\n",
              "      border-radius: 50%;\n",
              "      cursor: pointer;\n",
              "      display: none;\n",
              "      fill: #1967D2;\n",
              "      height: 32px;\n",
              "      padding: 0 0 0 0;\n",
              "      width: 32px;\n",
              "    }\n",
              "\n",
              "    .colab-df-convert:hover {\n",
              "      background-color: #E2EBFA;\n",
              "      box-shadow: 0px 1px 2px rgba(60, 64, 67, 0.3), 0px 1px 3px 1px rgba(60, 64, 67, 0.15);\n",
              "      fill: #174EA6;\n",
              "    }\n",
              "\n",
              "    [theme=dark] .colab-df-convert {\n",
              "      background-color: #3B4455;\n",
              "      fill: #D2E3FC;\n",
              "    }\n",
              "\n",
              "    [theme=dark] .colab-df-convert:hover {\n",
              "      background-color: #434B5C;\n",
              "      box-shadow: 0px 1px 3px 1px rgba(0, 0, 0, 0.15);\n",
              "      filter: drop-shadow(0px 1px 2px rgba(0, 0, 0, 0.3));\n",
              "      fill: #FFFFFF;\n",
              "    }\n",
              "  </style>\n",
              "\n",
              "      <script>\n",
              "        const buttonEl =\n",
              "          document.querySelector('#df-a1cc0f46-82e1-4df6-a1b3-27be7647c70a button.colab-df-convert');\n",
              "        buttonEl.style.display =\n",
              "          google.colab.kernel.accessAllowed ? 'block' : 'none';\n",
              "\n",
              "        async function convertToInteractive(key) {\n",
              "          const element = document.querySelector('#df-a1cc0f46-82e1-4df6-a1b3-27be7647c70a');\n",
              "          const dataTable =\n",
              "            await google.colab.kernel.invokeFunction('convertToInteractive',\n",
              "                                                     [key], {});\n",
              "          if (!dataTable) return;\n",
              "\n",
              "          const docLinkHtml = 'Like what you see? Visit the ' +\n",
              "            '<a target=\"_blank\" href=https://colab.research.google.com/notebooks/data_table.ipynb>data table notebook</a>'\n",
              "            + ' to learn more about interactive tables.';\n",
              "          element.innerHTML = '';\n",
              "          dataTable['output_type'] = 'display_data';\n",
              "          await google.colab.output.renderOutput(dataTable, element);\n",
              "          const docLink = document.createElement('div');\n",
              "          docLink.innerHTML = docLinkHtml;\n",
              "          element.appendChild(docLink);\n",
              "        }\n",
              "      </script>\n",
              "    </div>\n",
              "  </div>\n",
              "  "
            ]
          },
          "metadata": {},
          "execution_count": 14
        }
      ]
    },
    {
      "cell_type": "markdown",
      "source": [
        "Отсортируем по рейтингу:"
      ],
      "metadata": {
        "id": "gvY3ejaPyp3l"
      }
    },
    {
      "cell_type": "code",
      "source": [
        "df = df.sort_values(by='rating', ascending=False)\n",
        "df.head()"
      ],
      "metadata": {
        "colab": {
          "base_uri": "https://localhost:8080/",
          "height": 235
        },
        "id": "CpkVDgfY9qUk",
        "outputId": "ebc86add-a244-475c-b17d-57dcf0b11391"
      },
      "execution_count": 15,
      "outputs": [
        {
          "output_type": "execute_result",
          "data": {
            "text/plain": [
              "                           nameRu                         nameEn  year rating\n",
              "kinopoiskId                                                                  \n",
              "1209780      Маугли дикой планеты  Terra Willy: Planète inconnue  2019  7.979\n",
              "3670                    The Doors                      The Doors  1991  7.706\n",
              "4862812                      Икар                          Icare  2022    7.6\n",
              "41047                 Ширли-мырли                                 1995  7.485\n",
              "818981             Реальные упыри      What We Do in the Shadows  2014  7.452"
            ],
            "text/html": [
              "\n",
              "  <div id=\"df-dfcfc3fd-6fa3-4174-8007-0850e580eb0b\">\n",
              "    <div class=\"colab-df-container\">\n",
              "      <div>\n",
              "<style scoped>\n",
              "    .dataframe tbody tr th:only-of-type {\n",
              "        vertical-align: middle;\n",
              "    }\n",
              "\n",
              "    .dataframe tbody tr th {\n",
              "        vertical-align: top;\n",
              "    }\n",
              "\n",
              "    .dataframe thead th {\n",
              "        text-align: right;\n",
              "    }\n",
              "</style>\n",
              "<table border=\"1\" class=\"dataframe\">\n",
              "  <thead>\n",
              "    <tr style=\"text-align: right;\">\n",
              "      <th></th>\n",
              "      <th>nameRu</th>\n",
              "      <th>nameEn</th>\n",
              "      <th>year</th>\n",
              "      <th>rating</th>\n",
              "    </tr>\n",
              "    <tr>\n",
              "      <th>kinopoiskId</th>\n",
              "      <th></th>\n",
              "      <th></th>\n",
              "      <th></th>\n",
              "      <th></th>\n",
              "    </tr>\n",
              "  </thead>\n",
              "  <tbody>\n",
              "    <tr>\n",
              "      <th>1209780</th>\n",
              "      <td>Маугли дикой планеты</td>\n",
              "      <td>Terra Willy: Planète inconnue</td>\n",
              "      <td>2019</td>\n",
              "      <td>7.979</td>\n",
              "    </tr>\n",
              "    <tr>\n",
              "      <th>3670</th>\n",
              "      <td>The Doors</td>\n",
              "      <td>The Doors</td>\n",
              "      <td>1991</td>\n",
              "      <td>7.706</td>\n",
              "    </tr>\n",
              "    <tr>\n",
              "      <th>4862812</th>\n",
              "      <td>Икар</td>\n",
              "      <td>Icare</td>\n",
              "      <td>2022</td>\n",
              "      <td>7.6</td>\n",
              "    </tr>\n",
              "    <tr>\n",
              "      <th>41047</th>\n",
              "      <td>Ширли-мырли</td>\n",
              "      <td></td>\n",
              "      <td>1995</td>\n",
              "      <td>7.485</td>\n",
              "    </tr>\n",
              "    <tr>\n",
              "      <th>818981</th>\n",
              "      <td>Реальные упыри</td>\n",
              "      <td>What We Do in the Shadows</td>\n",
              "      <td>2014</td>\n",
              "      <td>7.452</td>\n",
              "    </tr>\n",
              "  </tbody>\n",
              "</table>\n",
              "</div>\n",
              "      <button class=\"colab-df-convert\" onclick=\"convertToInteractive('df-dfcfc3fd-6fa3-4174-8007-0850e580eb0b')\"\n",
              "              title=\"Convert this dataframe to an interactive table.\"\n",
              "              style=\"display:none;\">\n",
              "        \n",
              "  <svg xmlns=\"http://www.w3.org/2000/svg\" height=\"24px\"viewBox=\"0 0 24 24\"\n",
              "       width=\"24px\">\n",
              "    <path d=\"M0 0h24v24H0V0z\" fill=\"none\"/>\n",
              "    <path d=\"M18.56 5.44l.94 2.06.94-2.06 2.06-.94-2.06-.94-.94-2.06-.94 2.06-2.06.94zm-11 1L8.5 8.5l.94-2.06 2.06-.94-2.06-.94L8.5 2.5l-.94 2.06-2.06.94zm10 10l.94 2.06.94-2.06 2.06-.94-2.06-.94-.94-2.06-.94 2.06-2.06.94z\"/><path d=\"M17.41 7.96l-1.37-1.37c-.4-.4-.92-.59-1.43-.59-.52 0-1.04.2-1.43.59L10.3 9.45l-7.72 7.72c-.78.78-.78 2.05 0 2.83L4 21.41c.39.39.9.59 1.41.59.51 0 1.02-.2 1.41-.59l7.78-7.78 2.81-2.81c.8-.78.8-2.07 0-2.86zM5.41 20L4 18.59l7.72-7.72 1.47 1.35L5.41 20z\"/>\n",
              "  </svg>\n",
              "      </button>\n",
              "      \n",
              "  <style>\n",
              "    .colab-df-container {\n",
              "      display:flex;\n",
              "      flex-wrap:wrap;\n",
              "      gap: 12px;\n",
              "    }\n",
              "\n",
              "    .colab-df-convert {\n",
              "      background-color: #E8F0FE;\n",
              "      border: none;\n",
              "      border-radius: 50%;\n",
              "      cursor: pointer;\n",
              "      display: none;\n",
              "      fill: #1967D2;\n",
              "      height: 32px;\n",
              "      padding: 0 0 0 0;\n",
              "      width: 32px;\n",
              "    }\n",
              "\n",
              "    .colab-df-convert:hover {\n",
              "      background-color: #E2EBFA;\n",
              "      box-shadow: 0px 1px 2px rgba(60, 64, 67, 0.3), 0px 1px 3px 1px rgba(60, 64, 67, 0.15);\n",
              "      fill: #174EA6;\n",
              "    }\n",
              "\n",
              "    [theme=dark] .colab-df-convert {\n",
              "      background-color: #3B4455;\n",
              "      fill: #D2E3FC;\n",
              "    }\n",
              "\n",
              "    [theme=dark] .colab-df-convert:hover {\n",
              "      background-color: #434B5C;\n",
              "      box-shadow: 0px 1px 3px 1px rgba(0, 0, 0, 0.15);\n",
              "      filter: drop-shadow(0px 1px 2px rgba(0, 0, 0, 0.3));\n",
              "      fill: #FFFFFF;\n",
              "    }\n",
              "  </style>\n",
              "\n",
              "      <script>\n",
              "        const buttonEl =\n",
              "          document.querySelector('#df-dfcfc3fd-6fa3-4174-8007-0850e580eb0b button.colab-df-convert');\n",
              "        buttonEl.style.display =\n",
              "          google.colab.kernel.accessAllowed ? 'block' : 'none';\n",
              "\n",
              "        async function convertToInteractive(key) {\n",
              "          const element = document.querySelector('#df-dfcfc3fd-6fa3-4174-8007-0850e580eb0b');\n",
              "          const dataTable =\n",
              "            await google.colab.kernel.invokeFunction('convertToInteractive',\n",
              "                                                     [key], {});\n",
              "          if (!dataTable) return;\n",
              "\n",
              "          const docLinkHtml = 'Like what you see? Visit the ' +\n",
              "            '<a target=\"_blank\" href=https://colab.research.google.com/notebooks/data_table.ipynb>data table notebook</a>'\n",
              "            + ' to learn more about interactive tables.';\n",
              "          element.innerHTML = '';\n",
              "          dataTable['output_type'] = 'display_data';\n",
              "          await google.colab.output.renderOutput(dataTable, element);\n",
              "          const docLink = document.createElement('div');\n",
              "          docLink.innerHTML = docLinkHtml;\n",
              "          element.appendChild(docLink);\n",
              "        }\n",
              "      </script>\n",
              "    </div>\n",
              "  </div>\n",
              "  "
            ]
          },
          "metadata": {},
          "execution_count": 15
        }
      ]
    },
    {
      "cell_type": "markdown",
      "source": [
        "А теперь воспользуемся сервисом https://tastedive.com/, который по названию фильма подбирает подобные. Подберем по одному такому \"similar\" для имеющихся с рейтингом > 7, например, и добавим название в соответсвующую колонку. Сервис работает только с английскими названиями."
      ],
      "metadata": {
        "id": "EO_TlS57GxQb"
      }
    },
    {
      "cell_type": "code",
      "source": [
        "df['rating'] = df['rating'].astype('float') # меняем тип данных для возможности последующего выбора (с рейтингом > 7)\n",
        "df.shape"
      ],
      "metadata": {
        "id": "VwFEutj9IklD",
        "colab": {
          "base_uri": "https://localhost:8080/"
        },
        "outputId": "f4a3dafd-e77a-41a9-8a45-3f5f11af6752"
      },
      "execution_count": 18,
      "outputs": [
        {
          "output_type": "execute_result",
          "data": {
            "text/plain": [
              "(52, 4)"
            ]
          },
          "metadata": {},
          "execution_count": 18
        }
      ]
    },
    {
      "cell_type": "code",
      "source": [
        "# Отбираем фильмы по рейтингу > 7, имеющие название на английском\n",
        "df_sample = df[(df['rating'] > 7) & (df['nameEn'] != '')].copy()\n",
        "df_sample.shape"
      ],
      "metadata": {
        "colab": {
          "base_uri": "https://localhost:8080/"
        },
        "id": "-nX0U00n8rTs",
        "outputId": "383dfc8a-c17b-4fdf-9eb0-0b0db6e5639d"
      },
      "execution_count": 27,
      "outputs": [
        {
          "output_type": "execute_result",
          "data": {
            "text/plain": [
              "(8, 4)"
            ]
          },
          "metadata": {},
          "execution_count": 27
        }
      ]
    },
    {
      "cell_type": "code",
      "source": [
        "url_new = 'https://tastedive.com/api/similar?limit=1&type=movies&q='\n",
        "for i in tqdm(df_sample.index):\n",
        "  r_new = requests.get(url_new + df_sample.loc[i,'nameEn']).json()\n",
        "  if r_new['Similar']['Results'] != []:\n",
        "    df_sample.loc[i,'similar'] = r_new['Similar']['Results'][0]['Name']\n",
        "df_sample"
      ],
      "metadata": {
        "colab": {
          "base_uri": "https://localhost:8080/",
          "height": 360,
          "referenced_widgets": [
            "ff98ad61bca3448b9b6c97de2fa15a59",
            "dfdf767da8614e9c922b8a3370689996",
            "93dda03f2fdd49498c2729502050cda6",
            "01080543208c4759b17079f6088c703f",
            "31194fd675bc436ea2caefc81080f37a",
            "b57da7f2606346f88fa87631f19fc562",
            "80ef8140409c4a1e8be8ef2f96e09f87",
            "1e8edd198b4842b59514ffd2445bbd13",
            "1a3f25b230894e1c8d73289bf899e5c7",
            "4c373d00824940b5ab424a1e5d0954ba",
            "ab1408b9c4de4e719cd71e72a57fa2bd"
          ]
        },
        "id": "xP5wxnFv9RHx",
        "outputId": "77de0f2c-b9e1-4d47-a672-c744f577b2a0"
      },
      "execution_count": 38,
      "outputs": [
        {
          "output_type": "display_data",
          "data": {
            "text/plain": [
              "  0%|          | 0/8 [00:00<?, ?it/s]"
            ],
            "application/vnd.jupyter.widget-view+json": {
              "version_major": 2,
              "version_minor": 0,
              "model_id": "ff98ad61bca3448b9b6c97de2fa15a59"
            }
          },
          "metadata": {}
        },
        {
          "output_type": "execute_result",
          "data": {
            "text/plain": [
              "                                    nameRu  \\\n",
              "kinopoiskId                                  \n",
              "1209780               Маугли дикой планеты   \n",
              "3670                             The Doors   \n",
              "4862812                               Икар   \n",
              "818981                      Реальные упыри   \n",
              "4413227                     Убойный монтаж   \n",
              "4401506                  Великий «Юнайтед»   \n",
              "4929765      История кино: Новое поколение   \n",
              "4720113               Все ненавидят Йохана   \n",
              "\n",
              "                                          nameEn  year  rating  \\\n",
              "kinopoiskId                                                      \n",
              "1209780            Terra Willy: Planète inconnue  2019   7.979   \n",
              "3670                                   The Doors  1991   7.706   \n",
              "4862812                                    Icare  2022   7.600   \n",
              "818981                 What We Do in the Shadows  2014   7.452   \n",
              "4413227                                    Coupé  2022   7.364   \n",
              "4401506                           The United Way  2021   7.068   \n",
              "4929765      The Story of Film: A New Generation  2021   7.044   \n",
              "4720113                         Alle hater Johan  2022   7.023   \n",
              "\n",
              "                                                       similar  \n",
              "kinopoiskId                                                     \n",
              "1209780                                                    NaN  \n",
              "3670                                      Natural Born Killers  \n",
              "4862812                                                    NaN  \n",
              "818981       What We Do In The Shadows: Interviews With Som...  \n",
              "4413227                                                    NaN  \n",
              "4401506                                                    NaN  \n",
              "4929765                                                    NaN  \n",
              "4720113                                                    NaN  "
            ],
            "text/html": [
              "\n",
              "  <div id=\"df-55785216-88f6-424e-b027-f8d2704787a3\">\n",
              "    <div class=\"colab-df-container\">\n",
              "      <div>\n",
              "<style scoped>\n",
              "    .dataframe tbody tr th:only-of-type {\n",
              "        vertical-align: middle;\n",
              "    }\n",
              "\n",
              "    .dataframe tbody tr th {\n",
              "        vertical-align: top;\n",
              "    }\n",
              "\n",
              "    .dataframe thead th {\n",
              "        text-align: right;\n",
              "    }\n",
              "</style>\n",
              "<table border=\"1\" class=\"dataframe\">\n",
              "  <thead>\n",
              "    <tr style=\"text-align: right;\">\n",
              "      <th></th>\n",
              "      <th>nameRu</th>\n",
              "      <th>nameEn</th>\n",
              "      <th>year</th>\n",
              "      <th>rating</th>\n",
              "      <th>similar</th>\n",
              "    </tr>\n",
              "    <tr>\n",
              "      <th>kinopoiskId</th>\n",
              "      <th></th>\n",
              "      <th></th>\n",
              "      <th></th>\n",
              "      <th></th>\n",
              "      <th></th>\n",
              "    </tr>\n",
              "  </thead>\n",
              "  <tbody>\n",
              "    <tr>\n",
              "      <th>1209780</th>\n",
              "      <td>Маугли дикой планеты</td>\n",
              "      <td>Terra Willy: Planète inconnue</td>\n",
              "      <td>2019</td>\n",
              "      <td>7.979</td>\n",
              "      <td>NaN</td>\n",
              "    </tr>\n",
              "    <tr>\n",
              "      <th>3670</th>\n",
              "      <td>The Doors</td>\n",
              "      <td>The Doors</td>\n",
              "      <td>1991</td>\n",
              "      <td>7.706</td>\n",
              "      <td>Natural Born Killers</td>\n",
              "    </tr>\n",
              "    <tr>\n",
              "      <th>4862812</th>\n",
              "      <td>Икар</td>\n",
              "      <td>Icare</td>\n",
              "      <td>2022</td>\n",
              "      <td>7.600</td>\n",
              "      <td>NaN</td>\n",
              "    </tr>\n",
              "    <tr>\n",
              "      <th>818981</th>\n",
              "      <td>Реальные упыри</td>\n",
              "      <td>What We Do in the Shadows</td>\n",
              "      <td>2014</td>\n",
              "      <td>7.452</td>\n",
              "      <td>What We Do In The Shadows: Interviews With Som...</td>\n",
              "    </tr>\n",
              "    <tr>\n",
              "      <th>4413227</th>\n",
              "      <td>Убойный монтаж</td>\n",
              "      <td>Coupé</td>\n",
              "      <td>2022</td>\n",
              "      <td>7.364</td>\n",
              "      <td>NaN</td>\n",
              "    </tr>\n",
              "    <tr>\n",
              "      <th>4401506</th>\n",
              "      <td>Великий «Юнайтед»</td>\n",
              "      <td>The United Way</td>\n",
              "      <td>2021</td>\n",
              "      <td>7.068</td>\n",
              "      <td>NaN</td>\n",
              "    </tr>\n",
              "    <tr>\n",
              "      <th>4929765</th>\n",
              "      <td>История кино: Новое поколение</td>\n",
              "      <td>The Story of Film: A New Generation</td>\n",
              "      <td>2021</td>\n",
              "      <td>7.044</td>\n",
              "      <td>NaN</td>\n",
              "    </tr>\n",
              "    <tr>\n",
              "      <th>4720113</th>\n",
              "      <td>Все ненавидят Йохана</td>\n",
              "      <td>Alle hater Johan</td>\n",
              "      <td>2022</td>\n",
              "      <td>7.023</td>\n",
              "      <td>NaN</td>\n",
              "    </tr>\n",
              "  </tbody>\n",
              "</table>\n",
              "</div>\n",
              "      <button class=\"colab-df-convert\" onclick=\"convertToInteractive('df-55785216-88f6-424e-b027-f8d2704787a3')\"\n",
              "              title=\"Convert this dataframe to an interactive table.\"\n",
              "              style=\"display:none;\">\n",
              "        \n",
              "  <svg xmlns=\"http://www.w3.org/2000/svg\" height=\"24px\"viewBox=\"0 0 24 24\"\n",
              "       width=\"24px\">\n",
              "    <path d=\"M0 0h24v24H0V0z\" fill=\"none\"/>\n",
              "    <path d=\"M18.56 5.44l.94 2.06.94-2.06 2.06-.94-2.06-.94-.94-2.06-.94 2.06-2.06.94zm-11 1L8.5 8.5l.94-2.06 2.06-.94-2.06-.94L8.5 2.5l-.94 2.06-2.06.94zm10 10l.94 2.06.94-2.06 2.06-.94-2.06-.94-.94-2.06-.94 2.06-2.06.94z\"/><path d=\"M17.41 7.96l-1.37-1.37c-.4-.4-.92-.59-1.43-.59-.52 0-1.04.2-1.43.59L10.3 9.45l-7.72 7.72c-.78.78-.78 2.05 0 2.83L4 21.41c.39.39.9.59 1.41.59.51 0 1.02-.2 1.41-.59l7.78-7.78 2.81-2.81c.8-.78.8-2.07 0-2.86zM5.41 20L4 18.59l7.72-7.72 1.47 1.35L5.41 20z\"/>\n",
              "  </svg>\n",
              "      </button>\n",
              "      \n",
              "  <style>\n",
              "    .colab-df-container {\n",
              "      display:flex;\n",
              "      flex-wrap:wrap;\n",
              "      gap: 12px;\n",
              "    }\n",
              "\n",
              "    .colab-df-convert {\n",
              "      background-color: #E8F0FE;\n",
              "      border: none;\n",
              "      border-radius: 50%;\n",
              "      cursor: pointer;\n",
              "      display: none;\n",
              "      fill: #1967D2;\n",
              "      height: 32px;\n",
              "      padding: 0 0 0 0;\n",
              "      width: 32px;\n",
              "    }\n",
              "\n",
              "    .colab-df-convert:hover {\n",
              "      background-color: #E2EBFA;\n",
              "      box-shadow: 0px 1px 2px rgba(60, 64, 67, 0.3), 0px 1px 3px 1px rgba(60, 64, 67, 0.15);\n",
              "      fill: #174EA6;\n",
              "    }\n",
              "\n",
              "    [theme=dark] .colab-df-convert {\n",
              "      background-color: #3B4455;\n",
              "      fill: #D2E3FC;\n",
              "    }\n",
              "\n",
              "    [theme=dark] .colab-df-convert:hover {\n",
              "      background-color: #434B5C;\n",
              "      box-shadow: 0px 1px 3px 1px rgba(0, 0, 0, 0.15);\n",
              "      filter: drop-shadow(0px 1px 2px rgba(0, 0, 0, 0.3));\n",
              "      fill: #FFFFFF;\n",
              "    }\n",
              "  </style>\n",
              "\n",
              "      <script>\n",
              "        const buttonEl =\n",
              "          document.querySelector('#df-55785216-88f6-424e-b027-f8d2704787a3 button.colab-df-convert');\n",
              "        buttonEl.style.display =\n",
              "          google.colab.kernel.accessAllowed ? 'block' : 'none';\n",
              "\n",
              "        async function convertToInteractive(key) {\n",
              "          const element = document.querySelector('#df-55785216-88f6-424e-b027-f8d2704787a3');\n",
              "          const dataTable =\n",
              "            await google.colab.kernel.invokeFunction('convertToInteractive',\n",
              "                                                     [key], {});\n",
              "          if (!dataTable) return;\n",
              "\n",
              "          const docLinkHtml = 'Like what you see? Visit the ' +\n",
              "            '<a target=\"_blank\" href=https://colab.research.google.com/notebooks/data_table.ipynb>data table notebook</a>'\n",
              "            + ' to learn more about interactive tables.';\n",
              "          element.innerHTML = '';\n",
              "          dataTable['output_type'] = 'display_data';\n",
              "          await google.colab.output.renderOutput(dataTable, element);\n",
              "          const docLink = document.createElement('div');\n",
              "          docLink.innerHTML = docLinkHtml;\n",
              "          element.appendChild(docLink);\n",
              "        }\n",
              "      </script>\n",
              "    </div>\n",
              "  </div>\n",
              "  "
            ]
          },
          "metadata": {},
          "execution_count": 38
        }
      ]
    },
    {
      "cell_type": "markdown",
      "source": [
        "Сохраним получившийся датафрейм как .csv файл."
      ],
      "metadata": {
        "id": "uRBoAfqnyn45"
      }
    },
    {
      "cell_type": "code",
      "source": [
        "df_sample.to_csv('movies.csv',encoding='utf-16')"
      ],
      "metadata": {
        "id": "RdYXQi-GX-dW"
      },
      "execution_count": 25,
      "outputs": []
    },
    {
      "cell_type": "code",
      "source": [
        "%%shell\n",
        "jupyter nbconvert --to html /content/sample_data/API_DF.ipynb\n"
      ],
      "metadata": {
        "id": "Mm_0xKXH1C9u"
      },
      "execution_count": null,
      "outputs": []
    }
  ]
}